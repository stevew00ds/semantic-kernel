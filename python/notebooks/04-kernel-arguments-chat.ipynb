{
    "cells": [
        {
            "attachments": {},
            "cell_type": "markdown",
            "id": "fde98ddf",
            "metadata": {},
            "source": [
                "# Creating a basic chat experience with kernel arguments\n",
                "\n",
                "In this example, we show how you can build a simple chat bot by sending and updating the kernel arguments with your requests.\n",
                "\n",
                "We introduce the Kernel Arguments object which in this demo functions similarly as a key-value store that you can use when running the kernel.\n",
                "\n",
                "The chat history is local (i.e. in your computer's RAM) and not persisted anywhere beyond the life of this Jupyter session.\n",
                "\n",
                "In future examples, we will show how to persist the chat history on disk so that you can bring it into your applications.\n",
                "\n",
                "In this chat scenario, as the user talks back and forth with the bot, the chat context gets populated with the history of the conversation. During each new run of the kernel, the kernel arguments and chat history can provide the AI with its variables' content.\n"
            ]
        },
        {
            "cell_type": "code",
            "execution_count": null,
            "id": "92f69b34",
            "metadata": {},
            "outputs": [],
            "source": [
                "!python -m pip install semantic-kernel==0.9.6b1"
            ]
        },
        {
            "cell_type": "code",
            "execution_count": 5,
            "id": "0a235b31",
            "metadata": {},
            "outputs": [],
            "source": [
                "from services import Service\n",
                "\n",
                "# Select a service to use for this notebook (available services: OpenAI, AzureOpenAI, HuggingFace)\n",
                "selectedService = Service.OpenAI"
            ]
        },
        {
            "cell_type": "code",
            "execution_count": 6,
            "id": "68301108",
            "metadata": {},
            "outputs": [],
            "source": [
                "from semantic_kernel import Kernel\n",
                "from semantic_kernel.prompt_template import InputVariable, PromptTemplateConfig\n",
                "\n",
                "kernel = Kernel()\n",
                "\n",
                "service_id = None\n",
                "if selectedService == Service.OpenAI:\n",
                "    from semantic_kernel.connectors.ai.open_ai import OpenAIChatCompletion\n",
                "    from semantic_kernel.utils.settings import openai_settings_from_dot_env\n",
                "\n",
                "    api_key, org_id = openai_settings_from_dot_env()\n",
                "    service_id = \"oai_chat_gpt\"\n",
                "    kernel.add_service(\n",
                "        OpenAIChatCompletion(service_id=service_id, ai_model_id=\"gpt-3.5-turbo-1106\", api_key=api_key, org_id=org_id),\n",
                "    )\n",
                "elif selectedService == Service.AzureOpenAI:\n",
                "    from semantic_kernel.connectors.ai.open_ai import AzureChatCompletion\n",
                "    from semantic_kernel.utils.settings import azure_openai_settings_from_dot_env\n",
                "\n",
                "    deployment, api_key, endpoint = azure_openai_settings_from_dot_env()\n",
                "    service_id = \"aoai_chat_completion\"\n",
                "    kernel.add_service(\n",
                "        AzureChatCompletion(service_id=service_id, deployment_name=deployment, endpoint=endpoint, api_key=api_key),\n",
                "    )"
            ]
        },
        {
            "attachments": {},
            "cell_type": "markdown",
            "id": "7971783d",
            "metadata": {},
            "source": [
                "Let's define a prompt outlining a dialogue chat bot.\n"
            ]
        },
        {
            "cell_type": "code",
            "execution_count": 7,
            "id": "e84a05fc",
            "metadata": {},
            "outputs": [],
            "source": [
                "prompt = \"\"\"\n",
                "ChatBot can have a conversation with you about any topic.\n",
                "It can give explicit instructions or say 'I don't know' if it does not have an answer.\n",
                "\n",
                "{{$history}}\n",
                "User: {{$user_input}}\n",
                "ChatBot: \"\"\""
            ]
        },
        {
            "attachments": {},
            "cell_type": "markdown",
            "id": "61716b16",
            "metadata": {},
            "source": [
                "Register your semantic function\n"
            ]
        },
        {
            "cell_type": "code",
            "execution_count": 8,
            "id": "a3e4b160",
            "metadata": {},
            "outputs": [],
            "source": [
                "from semantic_kernel.connectors.ai.open_ai.prompt_execution_settings.open_ai_prompt_execution_settings import (\n",
                "    OpenAIChatPromptExecutionSettings,\n",
                ")\n",
                "from semantic_kernel.prompt_template.input_variable import InputVariable\n",
                "\n",
                "if selectedService == Service.OpenAI:\n",
                "    execution_settings = OpenAIChatPromptExecutionSettings(\n",
                "        service_id=service_id,\n",
                "        ai_model_id=\"gpt-3.5-turbo-1106\",\n",
                "        max_tokens=2000,\n",
                "        temperature=0.7,\n",
                "    )\n",
                "elif selectedService == Service.AzureOpenAI:\n",
                "    execution_settings = OpenAIChatPromptExecutionSettings(\n",
                "        service_id=service_id,\n",
                "        ai_model_id=deployment,\n",
                "        max_tokens=2000,\n",
                "        temperature=0.7,\n",
                "    )\n",
                "\n",
                "prompt_template_config = PromptTemplateConfig(\n",
                "    template=prompt,\n",
                "    name=\"chat\",\n",
                "    template_format=\"semantic-kernel\",\n",
                "    input_variables=[\n",
                "        InputVariable(name=\"input\", description=\"The user input\", is_required=True),\n",
                "        InputVariable(name=\"history\", description=\"The conversation history\", is_required=True),\n",
                "    ],\n",
                "    execution_settings=execution_settings,\n",
                ")\n",
                "\n",
                "chat_function = kernel.add_function(\n",
                "    function_name=\"chat\",\n",
                "    plugin_name=\"chatPlugin\",\n",
                "    prompt_template_config=prompt_template_config,\n",
                ")"
            ]
        },
        {
            "cell_type": "code",
            "execution_count": 9,
            "id": "6a0f7c01",
            "metadata": {},
            "outputs": [],
            "source": [
                "from semantic_kernel.contents import ChatHistory\n",
                "\n",
                "chat_history = ChatHistory()\n",
                "chat_history.add_system_message(\"You are a helpful chatbot who is good about giving book recommendations.\")"
            ]
        },
        {
            "attachments": {},
            "cell_type": "markdown",
            "id": "6e8a676f",
            "metadata": {},
            "source": [
                "Initialize the Kernel Arguments\n"
            ]
        },
        {
            "cell_type": "code",
            "execution_count": 10,
            "id": "a4be7394",
            "metadata": {},
            "outputs": [],
            "source": [
                "from semantic_kernel.functions import KernelArguments\n",
                "\n",
                "arguments = KernelArguments(user_input=\"Hi, I'm looking for book suggestions\", history=chat_history)"
            ]
        },
        {
            "attachments": {},
            "cell_type": "markdown",
            "id": "4ce7c497",
            "metadata": {},
            "source": [
                "Chat with the Bot\n"
            ]
        },
        {
            "cell_type": "code",
            "execution_count": 11,
            "id": "5ec41eb8",
            "metadata": {},
            "outputs": [
                {
                    "name": "stdout",
                    "output_type": "stream",
                    "text": [
                        "Hi there! I'd be happy to help you find some book suggestions. What kind of books are you interested in? Fiction, non-fiction, mystery, romance, science fiction, or something else? Let me know your preferences!\n"
                    ]
                }
            ],
            "source": [
                "response = await kernel.invoke(chat_function, arguments)\n",
                "print(response)"
            ]
        },
        {
            "attachments": {},
            "cell_type": "markdown",
            "id": "a5b03748",
            "metadata": {},
            "source": [
                "Update the history with the output\n"
            ]
        },
        {
            "cell_type": "code",
            "execution_count": 12,
            "id": "f50f517d",
            "metadata": {},
            "outputs": [],
            "source": [
                "chat_history.add_assistant_message(str(response))"
            ]
        },
        {
            "attachments": {},
            "cell_type": "markdown",
            "id": "23a2eb02",
            "metadata": {},
            "source": [
                "Keep Chatting!\n"
            ]
        },
        {
            "cell_type": "code",
            "execution_count": 13,
            "id": "c59efe45",
            "metadata": {},
            "outputs": [],
            "source": [
                "async def chat(input_text: str) -> None:\n",
                "    # Save new message in the context variables\n",
                "    print(f\"User: {input_text}\")\n",
                "    chat_history.add_user_message(input_text)\n",
                "\n",
                "    # Process the user message and get an answer\n",
                "    answer = await kernel.invoke(chat_function, KernelArguments(user_input=input_text, history=chat_history))\n",
                "\n",
                "    # Show the response\n",
                "    print(f\"ChatBot: {answer}\")\n",
                "\n",
                "    chat_history.add_assistant_message(str(answer))"
            ]
        },
        {
            "cell_type": "code",
            "execution_count": 14,
            "id": "06ee244e",
            "metadata": {},
            "outputs": [
                {
                    "name": "stdout",
                    "output_type": "stream",
                    "text": [
                        "User: I love history and philosophy, I'd like to learn something new about Greece, any suggestion?\n",
                        "ChatBot: Certainly! If you're interested in learning about ancient Greek philosophy, you might enjoy reading \"The Greeks\" by H.D.F. Kitto. It provides an overview of ancient Greek culture, history, and philosophy, focusing on key figures such as Socrates, Plato, and Aristotle. Another great option is \"The Birth of Western Philosophy: Socrates, Plato, and Aristotle\" by Maria Kaimaki. This book delves into the lives and ideas of these influential philosophers, providing a comprehensive understanding of their contributions to philosophy.\n",
                        "\n",
                        "If you're more interested in the history of Greece, \"The Peloponnesian War\" by Donald Kagan is a highly regarded work that explores the conflict between Athens and Sparta in the 5th century BC, shedding light on the political, military, and cultural aspects of ancient Greece.\n",
                        "\n",
                        "I hope you find these suggestions helpful! Let me know if you have any other preferences or if there's anything else I can assist you with.\n"
                    ]
                }
            ],
            "source": [
                "await chat(\"I love history and philosophy, I'd like to learn something new about Greece, any suggestion?\")"
            ]
        },
        {
            "cell_type": "code",
            "execution_count": 15,
            "id": "82be4e7e",
            "metadata": {},
            "outputs": [
                {
                    "name": "stdout",
                    "output_type": "stream",
                    "text": [
                        "User: that sounds interesting, what is it about?\n",
                        "ChatBot: \"The Greeks\" by H.D.F. Kitto provides a comprehensive overview of ancient Greek culture, history, and philosophy. It explores the intellectual and cultural achievements of the ancient Greeks, focusing on key figures such as Socrates, Plato, and Aristotle. The book delves into various aspects of Greek life, including literature, art, politics, and religion, offering valuable insights into the development of Western civilization. It's a great resource for anyone interested in gaining a deeper understanding of ancient Greek philosophy and its impact on the world.\n",
                        "\n",
                        "\"The Birth of Western Philosophy: Socrates, Plato, and Aristotle\" by Maria Kaimaki delves into the lives and ideas of these influential philosophers, providing a comprehensive understanding of their contributions to philosophy. The book explores their teachings, theories, and philosophical methods, shedding light on the profound influence they had on Western thought.\n",
                        "\n",
                        "\"The Peloponnesian War\" by Donald Kagan focuses on the conflict between Athens and Sparta in the 5th century BC. It delves into the political, military, and cultural aspects of ancient Greece, providing a detailed account of the war and its impact on Greek history.\n",
                        "\n",
                        "These books offer valuable insights into ancient Greek history, philosophy, and culture, making them engaging and informative reads for anyone interested in this fascinating period.\n"
                    ]
                }
            ],
            "source": [
                "await chat(\"that sounds interesting, what is it about?\")"
            ]
        },
        {
            "cell_type": "code",
            "execution_count": 16,
            "id": "82fe0139",
            "metadata": {},
            "outputs": [
                {
                    "name": "stdout",
                    "output_type": "stream",
                    "text": [
                        "User: if I read that book, what exactly will I learn about Greek history?\n",
                        "ChatBot: If you read \"The Greeks\" by H.D.F. Kitto, you will gain a comprehensive understanding of ancient Greek history, culture, and philosophy. The book delves into the intellectual and cultural achievements of the ancient Greeks, providing insights into various aspects of Greek life, including literature, art, politics, and religion. You will learn about the key figures and events that shaped ancient Greek civilization, as well as the impact of Greek philosophy on Western thought. Additionally, the book offers valuable perspectives on the development of democracy, the city-states, and the Peloponnesian War. It's a rich exploration of the foundations of Western civilization and the enduring legacy of ancient Greece.\n",
                        "\n",
                        "If you choose to read \"The Birth of Western Philosophy: Socrates, Plato, and Aristotle\" by Maria Kaimaki, you will gain a deep understanding of the lives and ideas of these influential philosophers, along with their impact on the development of Western philosophy.\n",
                        "\n",
                        "And if you opt for \"The Peloponnesian War\" by Donald Kagan, you will delve into the political, military, and cultural aspects of ancient Greece, focusing on the conflict between Athens and Sparta and its broader implications for Greek history.\n",
                        "\n",
                        "These books provide valuable insights into ancient Greek history, philosophy, and culture, offering a rich and compelling exploration of this fascinating period.\n"
                    ]
                }
            ],
            "source": [
                "await chat(\"if I read that book, what exactly will I learn about Greek history?\")"
            ]
        },
        {
            "cell_type": "code",
            "execution_count": 17,
            "id": "55b3a9f2",
            "metadata": {},
            "outputs": [
                {
                    "name": "stdout",
                    "output_type": "stream",
                    "text": [
                        "User: could you list some more books I could read about this topic?\n",
                        "ChatBot: Certainly! Here are some more books that you might find interesting to learn about ancient Greek history and philosophy:\n",
                        "\n",
                        "1. \"The Histories\" by Herodotus - This classic work provides a detailed account of ancient Greek history, society, and culture, as well as the Greco-Persian Wars.\n",
                        "\n",
                        "2. \"The Classical World: An Epic History from Homer to Hadrian\" by Robin Lane Fox - This book offers a comprehensive overview of ancient Greek history, covering the period from the Bronze Age to the end of the classical era.\n",
                        "\n",
                        "3. \"The Hemlock Cup: Socrates, Athens and the Search for the Good Life\" by Bettany Hughes - This book explores the life and influence of Socrates, offering a vivid portrayal of ancient Athens and its intellectual climate.\n",
                        "\n",
                        "4. \"The Intellectual Adventure of Ancient Man: An Essay on Speculative Thought in the Ancient Near East\" by Henri Frankfort - While not strictly focused on Greece, this book provides insights into the intellectual and philosophical developments in the ancient world that influenced Greek thought.\n",
                        "\n",
                        "5. \"A History of Western Philosophy\" by Bertrand Russell - This influential work provides an overview of Western philosophical thought, including the contributions of ancient Greek philosophers.\n",
                        "\n",
                        "These books offer diverse perspectives on ancient Greek history, philosophy, and culture, providing enriching insights into this fascinating period. I hope you find these recommendations helpful!\n"
                    ]
                }
            ],
            "source": [
                "await chat(\"could you list some more books I could read about this topic?\")"
            ]
        },
        {
            "attachments": {},
            "cell_type": "markdown",
            "id": "c30bac97",
            "metadata": {},
            "source": [
                "After chatting for a while, we have built a growing history, which we are attaching to each prompt and which contains the full conversation. Let's take a look!\n"
            ]
        },
        {
            "cell_type": "code",
            "execution_count": 18,
            "id": "5e34ae55",
            "metadata": {},
            "outputs": [
                {
                    "name": "stdout",
                    "output_type": "stream",
                    "text": [
                        "<chat_history><message role=\"system\">You are a helpful chatbot who is good about giving book recommendations.</message><message role=\"assistant\">Hi there! I'd be happy to help you find some book suggestions. What kind of books are you interested in? Fiction, non-fiction, mystery, romance, science fiction, or something else? Let me know your preferences!</message><message role=\"user\">I love history and philosophy, I'd like to learn something new about Greece, any suggestion?</message><message role=\"assistant\">Certainly! If you're interested in learning about ancient Greek philosophy, you might enjoy reading \"The Greeks\" by H.D.F. Kitto. It provides an overview of ancient Greek culture, history, and philosophy, focusing on key figures such as Socrates, Plato, and Aristotle. Another great option is \"The Birth of Western Philosophy: Socrates, Plato, and Aristotle\" by Maria Kaimaki. This book delves into the lives and ideas of these influential philosophers, providing a comprehensive understanding of their contributions to philosophy.\n",
                        "\n",
                        "If you're more interested in the history of Greece, \"The Peloponnesian War\" by Donald Kagan is a highly regarded work that explores the conflict between Athens and Sparta in the 5th century BC, shedding light on the political, military, and cultural aspects of ancient Greece.\n",
                        "\n",
                        "I hope you find these suggestions helpful! Let me know if you have any other preferences or if there's anything else I can assist you with.</message><message role=\"user\">that sounds interesting, what is it about?</message><message role=\"assistant\">\"The Greeks\" by H.D.F. Kitto provides a comprehensive overview of ancient Greek culture, history, and philosophy. It explores the intellectual and cultural achievements of the ancient Greeks, focusing on key figures such as Socrates, Plato, and Aristotle. The book delves into various aspects of Greek life, including literature, art, politics, and religion, offering valuable insights into the development of Western civilization. It's a great resource for anyone interested in gaining a deeper understanding of ancient Greek philosophy and its impact on the world.\n",
                        "\n",
                        "\"The Birth of Western Philosophy: Socrates, Plato, and Aristotle\" by Maria Kaimaki delves into the lives and ideas of these influential philosophers, providing a comprehensive understanding of their contributions to philosophy. The book explores their teachings, theories, and philosophical methods, shedding light on the profound influence they had on Western thought.\n",
                        "\n",
                        "\"The Peloponnesian War\" by Donald Kagan focuses on the conflict between Athens and Sparta in the 5th century BC. It delves into the political, military, and cultural aspects of ancient Greece, providing a detailed account of the war and its impact on Greek history.\n",
                        "\n",
                        "These books offer valuable insights into ancient Greek history, philosophy, and culture, making them engaging and informative reads for anyone interested in this fascinating period.</message><message role=\"user\">if I read that book, what exactly will I learn about Greek history?</message><message role=\"assistant\">If you read \"The Greeks\" by H.D.F. Kitto, you will gain a comprehensive understanding of ancient Greek history, culture, and philosophy. The book delves into the intellectual and cultural achievements of the ancient Greeks, providing insights into various aspects of Greek life, including literature, art, politics, and religion. You will learn about the key figures and events that shaped ancient Greek civilization, as well as the impact of Greek philosophy on Western thought. Additionally, the book offers valuable perspectives on the development of democracy, the city-states, and the Peloponnesian War. It's a rich exploration of the foundations of Western civilization and the enduring legacy of ancient Greece.\n",
                        "\n",
                        "If you choose to read \"The Birth of Western Philosophy: Socrates, Plato, and Aristotle\" by Maria Kaimaki, you will gain a deep understanding of the lives and ideas of these influential philosophers, along with their impact on the development of Western philosophy.\n",
                        "\n",
                        "And if you opt for \"The Peloponnesian War\" by Donald Kagan, you will delve into the political, military, and cultural aspects of ancient Greece, focusing on the conflict between Athens and Sparta and its broader implications for Greek history.\n",
                        "\n",
                        "These books provide valuable insights into ancient Greek history, philosophy, and culture, offering a rich and compelling exploration of this fascinating period.</message><message role=\"user\">could you list some more books I could read about this topic?</message><message role=\"assistant\">Certainly! Here are some more books that you might find interesting to learn about ancient Greek history and philosophy:\n",
                        "\n",
                        "1. \"The Histories\" by Herodotus - This classic work provides a detailed account of ancient Greek history, society, and culture, as well as the Greco-Persian Wars.\n",
                        "\n",
                        "2. \"The Classical World: An Epic History from Homer to Hadrian\" by Robin Lane Fox - This book offers a comprehensive overview of ancient Greek history, covering the period from the Bronze Age to the end of the classical era.\n",
                        "\n",
                        "3. \"The Hemlock Cup: Socrates, Athens and the Search for the Good Life\" by Bettany Hughes - This book explores the life and influence of Socrates, offering a vivid portrayal of ancient Athens and its intellectual climate.\n",
                        "\n",
                        "4. \"The Intellectual Adventure of Ancient Man: An Essay on Speculative Thought in the Ancient Near East\" by Henri Frankfort - While not strictly focused on Greece, this book provides insights into the intellectual and philosophical developments in the ancient world that influenced Greek thought.\n",
                        "\n",
                        "5. \"A History of Western Philosophy\" by Bertrand Russell - This influential work provides an overview of Western philosophical thought, including the contributions of ancient Greek philosophers.\n",
                        "\n",
                        "These books offer diverse perspectives on ancient Greek history, philosophy, and culture, providing enriching insights into this fascinating period. I hope you find these recommendations helpful!</message></chat_history>\n"
                    ]
                }
            ],
            "source": [
                "print(chat_history)"
            ]
        }
    ],
    "metadata": {
        "kernelspec": {
            "display_name": "Python 3 (ipykernel)",
            "language": "python",
            "name": "python3"
        },
        "language_info": {
            "codemirror_mode": {
                "name": "ipython",
                "version": 3
            },
            "file_extension": ".py",
            "mimetype": "text/x-python",
            "name": "python",
            "nbconvert_exporter": "python",
            "pygments_lexer": "ipython3",
            "version": "3.10.14"
        }
    },
    "nbformat": 4,
    "nbformat_minor": 5
}
