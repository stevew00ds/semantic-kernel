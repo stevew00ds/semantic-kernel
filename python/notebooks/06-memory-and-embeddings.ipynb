{
    "cells": [
        {
            "attachments": {},
            "cell_type": "markdown",
            "id": "68e1c158",
            "metadata": {},
            "source": [
                "# Building Semantic Memory with Embeddings\n",
                "\n",
                "So far, we've mostly been treating the kernel as a stateless orchestration engine.\n",
                "We send text into a model API and receive text out.\n",
                "\n",
                "In a [previous notebook](04-kernel-arguments-chat.ipynb), we used `kernel arguments` to pass in additional\n",
                "text into prompts to enrich them with more data. This allowed us to create a basic chat experience.\n",
                "\n",
                "However, if you solely relied on kernel arguments, you would quickly realize that eventually your prompt\n",
                "would grow so large that you would run into the model's token limit. What we need is a way to persist state\n",
                "and build both short-term and long-term memory to empower even more intelligent applications.\n",
                "\n",
                "To do this, we dive into the key concept of `Semantic Memory` in the Semantic Kernel.\n"
            ]
        },
        {
            "cell_type": "code",
            "execution_count": null,
            "id": "a77bdf89",
            "metadata": {},
            "outputs": [],
            "source": [
                "!python -m pip install semantic-kernel==0.9.6b1"
            ]
        },
        {
            "cell_type": "code",
            "execution_count": 16,
            "id": "1b95af24",
            "metadata": {},
            "outputs": [],
            "source": [
                "from services import Service\n",
                "\n",
                "# Select a service to use for this notebook (available services: OpenAI, AzureOpenAI, HuggingFace)\n",
                "selectedService = Service.OpenAI"
            ]
        },
        {
            "attachments": {},
            "cell_type": "markdown",
            "id": "d8ddffc1",
            "metadata": {},
            "source": [
                "In order to use memory, we need to instantiate the Kernel with a Memory Storage\n",
                "and an Embedding service. In this example, we make use of the `VolatileMemoryStore` which can be thought of as a temporary in-memory storage. This memory is not written to disk and is only available during the app session.\n",
                "\n",
                "When developing your app you will have the option to plug in persistent storage like Azure AI Search, Azure Cosmos Db, PostgreSQL, SQLite, etc. Semantic Memory allows also to index external data sources, without duplicating all the information as you will see further down in this notebook.\n"
            ]
        },
        {
            "cell_type": "code",
            "execution_count": 18,
            "id": "8f8dcbc6",
            "metadata": {},
            "outputs": [
                {
                    "data": {
                        "text/plain": [
                            "KernelPlugin(name='TextMemoryPlugin', description=None, functions={'recall': KernelFunctionFromMethod(metadata=KernelFunctionMetadata(name='recall', plugin_name='TextMemoryPlugin', description='Recall a fact from the long term memory', parameters=[KernelParameterMetadata(name='ask', description='The information to retrieve', default_value=None, type_='str', is_required=True, type_object=<class 'str'>), KernelParameterMetadata(name='collection', description='The collection to search for information.', default_value='generic', type_='str', is_required=False, type_object=<class 'str'>), KernelParameterMetadata(name='relevance', description='The relevance score, from 0.0 to 1.0; 1.0 means perfect match', default_value=0.75, type_='float', is_required=False, type_object=<class 'float'>), KernelParameterMetadata(name='limit', description='The maximum number of relevant memories to recall.', default_value=1, type_='int', is_required=False, type_object=<class 'int'>)], is_prompt=False, is_asynchronous=True, return_parameter=KernelParameterMetadata(name='return', description='', default_value=None, type_='str', is_required=True, type_object=None)), method=<bound method TextMemoryPlugin.recall of TextMemoryPlugin(memory=SemanticTextMemory())>, stream_method=None), 'save': KernelFunctionFromMethod(metadata=KernelFunctionMetadata(name='save', plugin_name='TextMemoryPlugin', description='Save information to semantic memory', parameters=[KernelParameterMetadata(name='text', description='The information to save.', default_value=None, type_='str', is_required=True, type_object=<class 'str'>), KernelParameterMetadata(name='key', description='The unique key to associate with the information.', default_value=None, type_='str', is_required=True, type_object=<class 'str'>), KernelParameterMetadata(name='collection', description='The collection to save the information.', default_value='generic', type_='str', is_required=False, type_object=<class 'str'>)], is_prompt=False, is_asynchronous=True, return_parameter=KernelParameterMetadata(name='return', description='', default_value=None, type_='', is_required=True, type_object=None)), method=<bound method TextMemoryPlugin.save of TextMemoryPlugin(memory=SemanticTextMemory())>, stream_method=None)})"
                        ]
                    },
                    "execution_count": 18,
                    "metadata": {},
                    "output_type": "execute_result"
                }
            ],
            "source": [
                "from semantic_kernel.connectors.ai.open_ai.services.azure_chat_completion import AzureChatCompletion\n",
                "from semantic_kernel.connectors.ai.open_ai.services.azure_text_embedding import AzureTextEmbedding\n",
                "from semantic_kernel.connectors.ai.open_ai.services.open_ai_chat_completion import OpenAIChatCompletion\n",
                "from semantic_kernel.connectors.ai.open_ai.services.open_ai_text_embedding import OpenAITextEmbedding\n",
                "from semantic_kernel.core_plugins.text_memory_plugin import TextMemoryPlugin\n",
                "from semantic_kernel.kernel import Kernel\n",
                "from semantic_kernel.memory.semantic_text_memory import SemanticTextMemory\n",
                "from semantic_kernel.memory.volatile_memory_store import VolatileMemoryStore\n",
                "from semantic_kernel.utils.settings import azure_openai_settings_from_dot_env, openai_settings_from_dot_env\n",
                "#--- below 2 import were not in original\n",
                "from semantic_kernel.functions import KernelFunction\n",
                "from semantic_kernel.prompt_template import InputVariable, PromptTemplateConfig\n",
                "\n",
                "\n",
                "kernel = Kernel()\n",
                "\n",
                "chat_service_id = \"chat\"\n",
                "\n",
                "# Configure AI service used by the kernel\n",
                "if selectedService == Service.AzureOpenAI:\n",
                "    deployment, api_key, endpoint = azure_openai_settings_from_dot_env()\n",
                "    # next line assumes chat deployment name is \"turbo\", adjust the deployment name to the value of your chat model if needed\n",
                "    azure_chat_service = AzureChatCompletion(\n",
                "        service_id=chat_service_id, deployment_name=\"turbo\", endpoint=endpoint, api_key=api_key\n",
                "    )\n",
                "    # next line assumes embeddings deployment name is \"text-embedding\", adjust the deployment name to the value of your chat model if needed\n",
                "    embedding_gen = AzureTextEmbedding(deployment_name=\"text-embedding\", endpoint=endpoint, api_key=api_key)\n",
                "    kernel.add_service(azure_chat_service)\n",
                "    kernel.add_service(embedding_gen)\n",
                "elif selectedService == Service.OpenAI:\n",
                "    api_key, org_id = openai_settings_from_dot_env()\n",
                "    oai_chat_service = OpenAIChatCompletion(\n",
                "        service_id=chat_service_id, ai_model_id=\"gpt-3.5-turbo\", api_key=api_key, org_id=org_id\n",
                "    )\n",
                "    embedding_gen = OpenAITextEmbedding(ai_model_id=\"text-embedding-ada-002\", api_key=api_key, org_id=org_id)\n",
                "    kernel.add_service(oai_chat_service)\n",
                "    kernel.add_service(embedding_gen)\n",
                "\n",
                "memory = SemanticTextMemory(storage=VolatileMemoryStore(), embeddings_generator=embedding_gen)\n",
                "kernel.add_plugin(TextMemoryPlugin(memory), \"TextMemoryPlugin\")"
            ]
        },
        {
            "attachments": {},
            "cell_type": "markdown",
            "id": "e7fefb6a",
            "metadata": {},
            "source": [
                "At its core, Semantic Memory is a set of data structures that allow you to store the meaning of text that come from different data sources, and optionally to store the source text too. These texts can be from the web, e-mail providers, chats, a database, or from your local directory, and are hooked up to the Semantic Kernel through data source connectors.\n",
                "\n",
                "The texts are embedded or compressed into a vector of floats representing mathematically the texts' contents and meaning. You can read more about embeddings [here](https://aka.ms/sk/embeddings).\n"
            ]
        },
        {
            "attachments": {},
            "cell_type": "markdown",
            "id": "2a7e7ca4",
            "metadata": {},
            "source": [
                "### Manually adding memories\n",
                "\n",
                "Let's create some initial memories \"About Me\". We can add memories to our `VolatileMemoryStore` by using `SaveInformationAsync`\n"
            ]
        },
        {
            "cell_type": "code",
            "execution_count": 19,
            "id": "d096504c",
            "metadata": {},
            "outputs": [],
            "source": [
                "collection_id = \"generic\"\n",
                "\n",
                "\n",
                "async def populate_memory(memory: SemanticTextMemory) -> None:\n",
                "    # Add some documents to the semantic memory\n",
                "    await memory.save_information(collection=collection_id, id=\"info1\", text=\"Your budget for 2024 is $100,000\")\n",
                "    await memory.save_information(collection=collection_id, id=\"info2\", text=\"Your savings from 2023 are $50,000\")\n",
                "    await memory.save_information(collection=collection_id, id=\"info3\", text=\"Your investments are $80,000\")"
            ]
        },
        {
            "cell_type": "code",
            "execution_count": 20,
            "id": "5338d3ac",
            "metadata": {},
            "outputs": [],
            "source": [
                "await populate_memory(memory)"
            ]
        },
        {
            "attachments": {},
            "cell_type": "markdown",
            "id": "2calf857",
            "metadata": {},
            "source": [
                "Let's try searching the memory:\n"
            ]
        },
        {
            "cell_type": "code",
            "execution_count": 21,
            "id": "628c843e",
            "metadata": {},
            "outputs": [],
            "source": [
                "async def search_memory_examples(memory: SemanticTextMemory) -> None:\n",
                "    questions = [\"What is my budget for 2024?\", \"What are my savings from 2023?\", \"What are my investments?\"]\n",
                "\n",
                "    for question in questions:\n",
                "        print(f\"Question: {question}\")\n",
                "        result = await memory.search(collection_id, question)\n",
                "        print(f\"Answer: {result[0].text}\\n\")"
            ]
        },
        {
            "cell_type": "code",
            "execution_count": 22,
            "id": "24764c48",
            "metadata": {},
            "outputs": [
                {
                    "name": "stdout",
                    "output_type": "stream",
                    "text": [
                        "Question: What is my budget for 2024?\n",
                        "Answer: Your budget for 2024 is $100,000\n",
                        "\n",
                        "Question: What are my savings from 2023?\n",
                        "Answer: Your savings from 2023 are $50,000\n",
                        "\n",
                        "Question: What are my investments?\n",
                        "Answer: Your investments are $80,000\n",
                        "\n"
                    ]
                }
            ],
            "source": [
                "await search_memory_examples(memory)"
            ]
        },
        {
            "attachments": {},
            "cell_type": "markdown",
            "id": "e70c2b22",
            "metadata": {},
            "source": [
                "Let's now revisit the our chat sample from the [previous notebook](04-kernel-arguments-chat.ipynb).\n",
                "If you remember, we used kernel arguments to fill the prompt with a `history` that continuously got populated as we chatted with the bot. Let's add also memory to it!\n"
            ]
        },
        {
            "attachments": {},
            "cell_type": "markdown",
            "id": "1ed54a32",
            "metadata": {},
            "source": [
                "This is done by using the `TextMemoryPlugin` which exposes the `recall` native function.\n",
                "\n",
                "`recall` takes an input ask and performs a similarity search on the contents that have\n",
                "been embedded in the Memory Store and returns the most relevant memory.\n"
            ]
        },
        {
            "cell_type": "code",
            "execution_count": 23,
            "id": "fb8549b2",
            "metadata": {},
            "outputs": [],
            "source": [
                "async def setup_chat_with_memory(\n",
                "    kernel: Kernel,\n",
                "    service_id: str,\n",
                ") -> KernelFunction:\n",
                "    prompt = \"\"\"\n",
                "    ChatBot can have a conversation with you about any topic.\n",
                "    It can give explicit instructions or say 'I don't know' if\n",
                "    it does not have an answer.\n",
                "\n",
                "    Information about me, from previous conversations:\n",
                "    - {{recall 'budget by year'}} What is my budget for 2024?\n",
                "    - {{recall 'savings from previous year'}} What are my savings from 2023?\n",
                "    - {{recall 'investments'}} What are my investments?\n",
                "\n",
                "    {{$request}}\n",
                "    \"\"\".strip()\n",
                "\n",
                "    prompt_template_config = PromptTemplateConfig(\n",
                "        template=prompt,\n",
                "        execution_settings={\n",
                "            service_id: kernel.get_service(service_id).get_prompt_execution_settings_class()(service_id=service_id)\n",
                "        },\n",
                "    )\n",
                "\n",
                "    chat_func = kernel.add_function(\n",
                "        function_name=\"chat_with_memory\",\n",
                "        plugin_name=\"chat\",\n",
                "        prompt_template_config=prompt_template_config,\n",
                "    )\n",
                "\n",
                "    return chat_func"
            ]
        },
        {
            "attachments": {},
            "cell_type": "markdown",
            "id": "1ac62457",
            "metadata": {},
            "source": [
                "The `RelevanceParam` is used in memory search and is a measure of the relevance score from 0.0 to 1.0, where 1.0 means a perfect match. We encourage users to experiment with different values.\n"
            ]
        },
        {
            "attachments": {},
            "cell_type": "markdown",
            "id": "645b55a1",
            "metadata": {},
            "source": [
                "Now that we've included our memories, let's chat!\n"
            ]
        },
        {
            "cell_type": "code",
            "execution_count": 24,
            "id": "75267a2f",
            "metadata": {},
            "outputs": [],
            "source": [
                "async def chat(kernel: Kernel, chat_func: KernelFunction) -> bool:\n",
                "    try:\n",
                "        user_input = input(\"User:> \")\n",
                "    except KeyboardInterrupt:\n",
                "        print(\"\\n\\nExiting chat...\")\n",
                "        return False\n",
                "    except EOFError:\n",
                "        print(\"\\n\\nExiting chat...\")\n",
                "        return False\n",
                "\n",
                "    if user_input == \"exit\":\n",
                "        print(\"\\n\\nExiting chat...\")\n",
                "        return False\n",
                "\n",
                "    answer = await kernel.invoke(chat_func, request=user_input)\n",
                "\n",
                "    print(f\"ChatBot:> {answer}\")\n",
                "    return True"
            ]
        },
        {
            "cell_type": "code",
            "execution_count": 25,
            "id": "e3875a34",
            "metadata": {},
            "outputs": [
                {
                    "name": "stdout",
                    "output_type": "stream",
                    "text": [
                        "Populating memory...\n",
                        "Asking questions... (manually)\n",
                        "Question: What is my budget for 2024?\n",
                        "Answer: Your budget for 2024 is $100,000\n",
                        "\n",
                        "Question: What are my savings from 2023?\n",
                        "Answer: Your savings from 2023 are $50,000\n",
                        "\n",
                        "Question: What are my investments?\n",
                        "Answer: Your investments are $80,000\n",
                        "\n",
                        "Setting up a chat (with memory!)\n",
                        "Begin chatting (type 'exit' to exit):\n",
                        "\n",
                        "Welcome to the chat bot!    \n",
                        "  Type 'exit' to exit.    \n",
                        "  Try asking a question about your finances (i.e. \"talk to me about my finances\").\n",
                        "ChatBot:> Your budget for 2024 is $100,000.\n",
                        "Your savings from 2023 are $50,000.\n",
                        "Your investments are $80,000.\n",
                        "ChatBot:> Your budget for 2024 is $100,000.\n",
                        "Your savings from 2023 are $50,000.\n",
                        "Your investments are $80,000.\n",
                        "ChatBot:> Your budget for 2024 is $100,000.\n",
                        "Your savings from 2023 are $50,000.\n",
                        "Your investments are $80,000.\n",
                        "ChatBot:> Your budget for 2024 is $100,000.\n",
                        "Your savings from 2023 are $50,000.\n",
                        "Your investments are $80,000.\n",
                        "ChatBot:> Your budget for 2024 is $100,000.\n",
                        "Your savings from 2023 are $50,000.\n",
                        "Your investments are $80,000.\n",
                        "ChatBot:> Your budget for 2024 is $100,000.\n",
                        "Your savings from 2023 are $50,000.\n",
                        "Your investments are $80,000.\n",
                        "ChatBot:> Your budget for 2024 is $100,000.\n",
                        "Your savings from 2023 are $50,000.\n",
                        "Your investments are $80,000.\n",
                        "ChatBot:> Your budget for 2024 is $100,000.\n",
                        "Your savings from 2023 are $50,000.\n",
                        "Your investments are $80,000.\n",
                        "ChatBot:> Your budget for 2024 is $100,000.\n",
                        "Your savings from 2023 are $50,000.\n",
                        "Your investments are $80,000.\n",
                        "ChatBot:> Your budget for 2024 is $100,000.\n",
                        "Your savings from 2023 are $50,000.\n",
                        "Your investments are $80,000.\n",
                        "ChatBot:> Your budget for 2024 is $100,000.\n",
                        "Your savings from 2023 are $50,000.\n",
                        "Your investments are $80,000.\n",
                        "ChatBot:> Your budget for 2024 is $100,000.\n",
                        "Your savings from 2023 are $50,000.\n",
                        "Your investments are $80,000.\n",
                        "ChatBot:> Your budget for 2024 is $100,000.\n",
                        "Your savings from 2023 are $50,000.\n",
                        "Your investments are $80,000.\n",
                        "ChatBot:> Your budget for 2024 is $100,000.\n",
                        "Your savings from 2023 are $50,000.\n",
                        "Your investments are $80,000.\n",
                        "ChatBot:> Your budget for 2024 is $100,000.\n",
                        "Your savings from 2023 are $50,000.\n",
                        "Your investments are $80,000.\n",
                        "ChatBot:> Your budget for 2024 is $100,000.\n",
                        "Your savings from 2023 are $50,000.\n",
                        "Your investments are $80,000.\n",
                        "ChatBot:> Your budget for 2024 is $100,000.\n",
                        "Your savings from 2023 are $50,000.\n",
                        "Your investments are $80,000.\n",
                        "ChatBot:> Your budget for 2024 is $100,000.\n",
                        "Your savings from 2023 are $50,000.\n",
                        "Your investments are $80,000.\n",
                        "ChatBot:> Your budget for 2024 is $100,000.\n",
                        "Your savings from 2023 are $50,000.\n",
                        "Your investments are $80,000.\n",
                        "ChatBot:> Your budget for 2024 is $100,000.\n",
                        "Your savings from 2023 are $50,000.\n",
                        "Your investments are $80,000.\n",
                        "ChatBot:> Your budget for 2024 is $100,000.\n",
                        "Your savings from 2023 are $50,000.\n",
                        "Your investments are $80,000.\n",
                        "ChatBot:> Your budget for 2024 is $100,000.\n",
                        "Your savings from 2023 are $50,000.\n",
                        "Your investments are $80,000.\n",
                        "ChatBot:> Your budget for 2024 is $100,000.\n",
                        "Your savings from 2023 are $50,000.\n",
                        "Your investments are $80,000.\n",
                        "ChatBot:> Your budget for 2024 is $100,000.\n",
                        "Your savings from 2023 are $50,000.\n",
                        "Your investments are $80,000.\n",
                        "ChatBot:> Your budget for 2024 is $100,000.\n",
                        "Your savings from 2023 are $50,000.\n",
                        "Your investments are $80,000.\n",
                        "ChatBot:> Your budget for 2024 is $100,000.\n",
                        "Your savings from 2023 are $50,000.\n",
                        "Your investments are $80,000.\n",
                        "ChatBot:> Your budget for 2024 is $100,000.\n",
                        "Your savings from 2023 are $50,000.\n",
                        "Your investments are $80,000. \n",
                        "\n",
                        "Is there anything else you would like to know or discuss?\n",
                        "ChatBot:> Your budget for 2024 is $100,000.\n",
                        "Your savings from 2023 are $50,000.\n",
                        "Your investments are $80,000.\n",
                        "ChatBot:> Your budget for 2024 is $100,000.\n",
                        "Your savings from 2023 are $50,000.\n",
                        "Your investments are $80,000.\n",
                        "ChatBot:> Your budget for 2024 is $100,000.\n",
                        "Your savings from 2023 are $50,000.\n",
                        "Your investments are $80,000.\n",
                        "ChatBot:> Your budget for 2024 is $100,000.\n",
                        "Your savings from 2023 are $50,000.\n",
                        "Your investments are $80,000.\n",
                        "ChatBot:> Your budget for 2024 is $100,000.\n",
                        "Your savings from 2023 are $50,000.\n",
                        "Your investments are $80,000.\n",
                        "ChatBot:> Your budget for 2024 is $100,000.\n",
                        "Your savings from 2023 are $50,000.\n",
                        "Your investments are $80,000.\n",
                        "ChatBot:> Your budget for 2024 is $100,000.\n",
                        "Your savings from 2023 are $50,000.\n",
                        "Your investments are $80,000.\n",
                        "ChatBot:> Your budget for 2024 is $100,000.\n",
                        "Your savings from 2023 are $50,000.\n",
                        "Your investments are $80,000.\n",
                        "ChatBot:> Your budget for 2024 is $100,000.\n",
                        "Your savings from 2023 are $50,000.\n",
                        "Your investments are $80,000.\n",
                        "ChatBot:> Your budget for 2024 is $100,000.\n",
                        "Your savings from 2023 are $50,000.\n",
                        "Your investments are $80,000.\n",
                        "ChatBot:> Your budget for 2024 is $100,000.\n",
                        "Your savings from 2023 are $50,000.\n",
                        "Your investments are $80,000.\n",
                        "ChatBot:> Your budget for 2024 is $100,000.\n",
                        "Your savings from 2023 are $50,000.\n",
                        "Your investments are $80,000.\n",
                        "ChatBot:> Your budget for 2024 is $100,000.\n",
                        "Your savings from 2023 are $50,000.\n",
                        "Your investments are $80,000.\n",
                        "ChatBot:> Your budget for 2024 is $100,000.\n",
                        "Your savings from 2023 are $50,000.\n",
                        "Your investments are $80,000.\n",
                        "ChatBot:> Your budget for 2024 is $100,000.\n",
                        "Your savings from 2023 are $50,000.\n",
                        "Your investments are $80,000.\n"
                    ]
                },
                {
                    "ename": "CancelledError",
                    "evalue": "",
                    "output_type": "error",
                    "traceback": [
                        "\u001b[0;31m---------------------------------------------------------------------------\u001b[0m",
                        "\u001b[0;31mCancelledError\u001b[0m                            Traceback (most recent call last)",
                        "Cell \u001b[0;32mIn[25], line 18\u001b[0m\n\u001b[1;32m     16\u001b[0m chatting \u001b[38;5;241m=\u001b[39m \u001b[38;5;28;01mTrue\u001b[39;00m\n\u001b[1;32m     17\u001b[0m \u001b[38;5;28;01mwhile\u001b[39;00m chatting:\n\u001b[0;32m---> 18\u001b[0m     chatting \u001b[38;5;241m=\u001b[39m \u001b[38;5;28;01mawait\u001b[39;00m chat(kernel, chat_func)\n",
                        "Cell \u001b[0;32mIn[24], line 15\u001b[0m, in \u001b[0;36mchat\u001b[0;34m(kernel, chat_func)\u001b[0m\n\u001b[1;32m     12\u001b[0m     \u001b[38;5;28mprint\u001b[39m(\u001b[38;5;124m\"\u001b[39m\u001b[38;5;130;01m\\n\u001b[39;00m\u001b[38;5;130;01m\\n\u001b[39;00m\u001b[38;5;124mExiting chat...\u001b[39m\u001b[38;5;124m\"\u001b[39m)\n\u001b[1;32m     13\u001b[0m     \u001b[38;5;28;01mreturn\u001b[39;00m \u001b[38;5;28;01mFalse\u001b[39;00m\n\u001b[0;32m---> 15\u001b[0m answer \u001b[38;5;241m=\u001b[39m \u001b[38;5;28;01mawait\u001b[39;00m kernel\u001b[38;5;241m.\u001b[39minvoke(chat_func, request\u001b[38;5;241m=\u001b[39muser_input)\n\u001b[1;32m     17\u001b[0m \u001b[38;5;28mprint\u001b[39m(\u001b[38;5;124mf\u001b[39m\u001b[38;5;124m\"\u001b[39m\u001b[38;5;124mChatBot:> \u001b[39m\u001b[38;5;132;01m{\u001b[39;00manswer\u001b[38;5;132;01m}\u001b[39;00m\u001b[38;5;124m\"\u001b[39m)\n\u001b[1;32m     18\u001b[0m \u001b[38;5;28;01mreturn\u001b[39;00m \u001b[38;5;28;01mTrue\u001b[39;00m\n",
                        "File \u001b[0;32m~/miniconda3/envs/azure/lib/python3.10/site-packages/semantic_kernel/kernel.py:266\u001b[0m, in \u001b[0;36mKernel.invoke\u001b[0;34m(self, function, arguments, function_name, plugin_name, **kwargs)\u001b[0m\n\u001b[1;32m    264\u001b[0m exception \u001b[38;5;241m=\u001b[39m \u001b[38;5;28;01mNone\u001b[39;00m\n\u001b[1;32m    265\u001b[0m \u001b[38;5;28;01mtry\u001b[39;00m:\n\u001b[0;32m--> 266\u001b[0m     function_result \u001b[38;5;241m=\u001b[39m \u001b[38;5;28;01mawait\u001b[39;00m function\u001b[38;5;241m.\u001b[39minvoke(\u001b[38;5;28mself\u001b[39m, arguments)\n\u001b[1;32m    267\u001b[0m \u001b[38;5;28;01mexcept\u001b[39;00m \u001b[38;5;167;01mException\u001b[39;00m \u001b[38;5;28;01mas\u001b[39;00m exc:\n\u001b[1;32m    268\u001b[0m     logger\u001b[38;5;241m.\u001b[39merror(\n\u001b[1;32m    269\u001b[0m         \u001b[38;5;124m\"\u001b[39m\u001b[38;5;124mSomething went wrong in function invocation. During function invocation:\u001b[39m\u001b[38;5;124m\"\u001b[39m\n\u001b[1;32m    270\u001b[0m         \u001b[38;5;124mf\u001b[39m\u001b[38;5;124m\"\u001b[39m\u001b[38;5;124m \u001b[39m\u001b[38;5;124m'\u001b[39m\u001b[38;5;132;01m{\u001b[39;00mfunction\u001b[38;5;241m.\u001b[39mfully_qualified_name\u001b[38;5;132;01m}\u001b[39;00m\u001b[38;5;124m'\u001b[39m\u001b[38;5;124m. Error description: \u001b[39m\u001b[38;5;124m'\u001b[39m\u001b[38;5;132;01m{\u001b[39;00m\u001b[38;5;28mstr\u001b[39m(exc)\u001b[38;5;132;01m}\u001b[39;00m\u001b[38;5;124m'\u001b[39m\u001b[38;5;124m\"\u001b[39m\n\u001b[1;32m    271\u001b[0m     )\n",
                        "File \u001b[0;32m~/miniconda3/envs/azure/lib/python3.10/site-packages/semantic_kernel/functions/kernel_function.py:190\u001b[0m, in \u001b[0;36mKernelFunction.invoke\u001b[0;34m(self, kernel, arguments, **kwargs)\u001b[0m\n\u001b[1;32m    188\u001b[0m     arguments \u001b[38;5;241m=\u001b[39m KernelArguments(\u001b[38;5;241m*\u001b[39m\u001b[38;5;241m*\u001b[39mkwargs)\n\u001b[1;32m    189\u001b[0m \u001b[38;5;28;01mtry\u001b[39;00m:\n\u001b[0;32m--> 190\u001b[0m     \u001b[38;5;28;01mreturn\u001b[39;00m \u001b[38;5;28;01mawait\u001b[39;00m \u001b[38;5;28mself\u001b[39m\u001b[38;5;241m.\u001b[39m_invoke_internal(kernel, arguments)\n\u001b[1;32m    191\u001b[0m \u001b[38;5;28;01mexcept\u001b[39;00m \u001b[38;5;167;01mException\u001b[39;00m \u001b[38;5;28;01mas\u001b[39;00m exc:\n\u001b[1;32m    192\u001b[0m     logger\u001b[38;5;241m.\u001b[39merror(\u001b[38;5;124mf\u001b[39m\u001b[38;5;124m\"\u001b[39m\u001b[38;5;124mError occurred while invoking function \u001b[39m\u001b[38;5;132;01m{\u001b[39;00m\u001b[38;5;28mself\u001b[39m\u001b[38;5;241m.\u001b[39mname\u001b[38;5;132;01m}\u001b[39;00m\u001b[38;5;124m: \u001b[39m\u001b[38;5;132;01m{\u001b[39;00mexc\u001b[38;5;132;01m}\u001b[39;00m\u001b[38;5;124m\"\u001b[39m)\n",
                        "File \u001b[0;32m~/miniconda3/envs/azure/lib/python3.10/site-packages/semantic_kernel/functions/kernel_function_from_prompt.py:151\u001b[0m, in \u001b[0;36mKernelFunctionFromPrompt._invoke_internal\u001b[0;34m(self, kernel, arguments)\u001b[0m\n\u001b[1;32m    149\u001b[0m arguments \u001b[38;5;241m=\u001b[39m \u001b[38;5;28mself\u001b[39m\u001b[38;5;241m.\u001b[39madd_default_values(arguments)\n\u001b[1;32m    150\u001b[0m service, execution_settings \u001b[38;5;241m=\u001b[39m kernel\u001b[38;5;241m.\u001b[39mselect_ai_service(\u001b[38;5;28mself\u001b[39m, arguments)\n\u001b[0;32m--> 151\u001b[0m prompt \u001b[38;5;241m=\u001b[39m \u001b[38;5;28;01mawait\u001b[39;00m \u001b[38;5;28mself\u001b[39m\u001b[38;5;241m.\u001b[39mprompt_template\u001b[38;5;241m.\u001b[39mrender(kernel, arguments)\n\u001b[1;32m    153\u001b[0m \u001b[38;5;28;01mif\u001b[39;00m \u001b[38;5;28misinstance\u001b[39m(service, ChatCompletionClientBase):\n\u001b[1;32m    154\u001b[0m     \u001b[38;5;28;01mreturn\u001b[39;00m \u001b[38;5;28;01mawait\u001b[39;00m \u001b[38;5;28mself\u001b[39m\u001b[38;5;241m.\u001b[39m_handle_complete_chat(\n\u001b[1;32m    155\u001b[0m         kernel\u001b[38;5;241m=\u001b[39mkernel,\n\u001b[1;32m    156\u001b[0m         service\u001b[38;5;241m=\u001b[39mservice,\n\u001b[0;32m   (...)\u001b[0m\n\u001b[1;32m    159\u001b[0m         arguments\u001b[38;5;241m=\u001b[39marguments,\n\u001b[1;32m    160\u001b[0m     )\n",
                        "File \u001b[0;32m~/miniconda3/envs/azure/lib/python3.10/site-packages/semantic_kernel/prompt_template/kernel_prompt_template.py:97\u001b[0m, in \u001b[0;36mKernelPromptTemplate.render\u001b[0;34m(self, kernel, arguments)\u001b[0m\n\u001b[1;32m     95\u001b[0m \u001b[38;5;28;01mif\u001b[39;00m arguments \u001b[38;5;129;01mis\u001b[39;00m \u001b[38;5;28;01mNone\u001b[39;00m:\n\u001b[1;32m     96\u001b[0m     arguments \u001b[38;5;241m=\u001b[39m KernelArguments()\n\u001b[0;32m---> 97\u001b[0m \u001b[38;5;28;01mreturn\u001b[39;00m \u001b[38;5;28;01mawait\u001b[39;00m \u001b[38;5;28mself\u001b[39m\u001b[38;5;241m.\u001b[39mrender_blocks(\u001b[38;5;28mself\u001b[39m\u001b[38;5;241m.\u001b[39m_blocks, kernel, arguments)\n",
                        "File \u001b[0;32m~/miniconda3/envs/azure/lib/python3.10/site-packages/semantic_kernel/prompt_template/kernel_prompt_template.py:118\u001b[0m, in \u001b[0;36mKernelPromptTemplate.render_blocks\u001b[0;34m(self, blocks, kernel, arguments)\u001b[0m\n\u001b[1;32m    116\u001b[0m \u001b[38;5;28;01mif\u001b[39;00m \u001b[38;5;28misinstance\u001b[39m(block, CodeRenderer):\n\u001b[1;32m    117\u001b[0m     \u001b[38;5;28;01mtry\u001b[39;00m:\n\u001b[0;32m--> 118\u001b[0m         rendered_blocks\u001b[38;5;241m.\u001b[39mappend(\u001b[38;5;28;01mawait\u001b[39;00m block\u001b[38;5;241m.\u001b[39mrender_code(kernel, arguments))\n\u001b[1;32m    119\u001b[0m     \u001b[38;5;28;01mexcept\u001b[39;00m CodeBlockRenderException \u001b[38;5;28;01mas\u001b[39;00m exc:\n\u001b[1;32m    120\u001b[0m         logger\u001b[38;5;241m.\u001b[39merror(\u001b[38;5;124mf\u001b[39m\u001b[38;5;124m\"\u001b[39m\u001b[38;5;124mError rendering code block: \u001b[39m\u001b[38;5;132;01m{\u001b[39;00mexc\u001b[38;5;132;01m}\u001b[39;00m\u001b[38;5;124m\"\u001b[39m)\n",
                        "File \u001b[0;32m~/miniconda3/envs/azure/lib/python3.10/site-packages/semantic_kernel/template_engine/blocks/code_block.py:111\u001b[0m, in \u001b[0;36mCodeBlock.render_code\u001b[0;34m(self, kernel, arguments)\u001b[0m\n\u001b[1;32m    109\u001b[0m logger\u001b[38;5;241m.\u001b[39mdebug(\u001b[38;5;124mf\u001b[39m\u001b[38;5;124m\"\u001b[39m\u001b[38;5;124mRendering code: `\u001b[39m\u001b[38;5;132;01m{\u001b[39;00m\u001b[38;5;28mself\u001b[39m\u001b[38;5;241m.\u001b[39mcontent\u001b[38;5;132;01m}\u001b[39;00m\u001b[38;5;124m`\u001b[39m\u001b[38;5;124m\"\u001b[39m)\n\u001b[1;32m    110\u001b[0m \u001b[38;5;28;01mif\u001b[39;00m \u001b[38;5;28mself\u001b[39m\u001b[38;5;241m.\u001b[39mtokens[\u001b[38;5;241m0\u001b[39m]\u001b[38;5;241m.\u001b[39mtype \u001b[38;5;241m==\u001b[39m BlockTypes\u001b[38;5;241m.\u001b[39mFUNCTION_ID:\n\u001b[0;32m--> 111\u001b[0m     \u001b[38;5;28;01mreturn\u001b[39;00m \u001b[38;5;28;01mawait\u001b[39;00m \u001b[38;5;28mself\u001b[39m\u001b[38;5;241m.\u001b[39m_render_function_call(kernel, arguments)\n\u001b[1;32m    112\u001b[0m \u001b[38;5;66;03m# validated that if the first token is not a function_id, it is a value or variable\u001b[39;00m\n\u001b[1;32m    113\u001b[0m \u001b[38;5;28;01mreturn\u001b[39;00m \u001b[38;5;28mself\u001b[39m\u001b[38;5;241m.\u001b[39mtokens[\u001b[38;5;241m0\u001b[39m]\u001b[38;5;241m.\u001b[39mrender(kernel, arguments)\n",
                        "File \u001b[0;32m~/miniconda3/envs/azure/lib/python3.10/site-packages/semantic_kernel/template_engine/blocks/code_block.py:128\u001b[0m, in \u001b[0;36mCodeBlock._render_function_call\u001b[0;34m(self, kernel, arguments)\u001b[0m\n\u001b[1;32m    125\u001b[0m \u001b[38;5;28;01mif\u001b[39;00m \u001b[38;5;28mlen\u001b[39m(\u001b[38;5;28mself\u001b[39m\u001b[38;5;241m.\u001b[39mtokens) \u001b[38;5;241m>\u001b[39m \u001b[38;5;241m1\u001b[39m:\n\u001b[1;32m    126\u001b[0m     arguments_clone \u001b[38;5;241m=\u001b[39m \u001b[38;5;28mself\u001b[39m\u001b[38;5;241m.\u001b[39m_enrich_function_arguments(kernel, arguments_clone, function\u001b[38;5;241m.\u001b[39mmetadata)\n\u001b[0;32m--> 128\u001b[0m result \u001b[38;5;241m=\u001b[39m \u001b[38;5;28;01mawait\u001b[39;00m function\u001b[38;5;241m.\u001b[39minvoke(kernel, arguments_clone)\n\u001b[1;32m    129\u001b[0m \u001b[38;5;28;01mif\u001b[39;00m exc \u001b[38;5;241m:=\u001b[39m result\u001b[38;5;241m.\u001b[39mmetadata\u001b[38;5;241m.\u001b[39mget(\u001b[38;5;124m\"\u001b[39m\u001b[38;5;124merror\u001b[39m\u001b[38;5;124m\"\u001b[39m, \u001b[38;5;28;01mNone\u001b[39;00m):\n\u001b[1;32m    130\u001b[0m     \u001b[38;5;28;01mraise\u001b[39;00m CodeBlockRenderException(\u001b[38;5;124mf\u001b[39m\u001b[38;5;124m\"\u001b[39m\u001b[38;5;124mError rendering function: \u001b[39m\u001b[38;5;132;01m{\u001b[39;00mfunction\u001b[38;5;241m.\u001b[39mmetadata\u001b[38;5;132;01m}\u001b[39;00m\u001b[38;5;124m with error: \u001b[39m\u001b[38;5;132;01m{\u001b[39;00mexc\u001b[38;5;132;01m}\u001b[39;00m\u001b[38;5;124m\"\u001b[39m) \u001b[38;5;28;01mfrom\u001b[39;00m \u001b[38;5;21;01mexc\u001b[39;00m\n",
                        "File \u001b[0;32m~/miniconda3/envs/azure/lib/python3.10/site-packages/semantic_kernel/functions/kernel_function.py:190\u001b[0m, in \u001b[0;36mKernelFunction.invoke\u001b[0;34m(self, kernel, arguments, **kwargs)\u001b[0m\n\u001b[1;32m    188\u001b[0m     arguments \u001b[38;5;241m=\u001b[39m KernelArguments(\u001b[38;5;241m*\u001b[39m\u001b[38;5;241m*\u001b[39mkwargs)\n\u001b[1;32m    189\u001b[0m \u001b[38;5;28;01mtry\u001b[39;00m:\n\u001b[0;32m--> 190\u001b[0m     \u001b[38;5;28;01mreturn\u001b[39;00m \u001b[38;5;28;01mawait\u001b[39;00m \u001b[38;5;28mself\u001b[39m\u001b[38;5;241m.\u001b[39m_invoke_internal(kernel, arguments)\n\u001b[1;32m    191\u001b[0m \u001b[38;5;28;01mexcept\u001b[39;00m \u001b[38;5;167;01mException\u001b[39;00m \u001b[38;5;28;01mas\u001b[39;00m exc:\n\u001b[1;32m    192\u001b[0m     logger\u001b[38;5;241m.\u001b[39merror(\u001b[38;5;124mf\u001b[39m\u001b[38;5;124m\"\u001b[39m\u001b[38;5;124mError occurred while invoking function \u001b[39m\u001b[38;5;132;01m{\u001b[39;00m\u001b[38;5;28mself\u001b[39m\u001b[38;5;241m.\u001b[39mname\u001b[38;5;132;01m}\u001b[39;00m\u001b[38;5;124m: \u001b[39m\u001b[38;5;132;01m{\u001b[39;00mexc\u001b[38;5;132;01m}\u001b[39;00m\u001b[38;5;124m\"\u001b[39m)\n",
                        "File \u001b[0;32m~/miniconda3/envs/azure/lib/python3.10/site-packages/semantic_kernel/functions/kernel_function_from_method.py:102\u001b[0m, in \u001b[0;36mKernelFunctionFromMethod._invoke_internal\u001b[0;34m(self, kernel, arguments)\u001b[0m\n\u001b[1;32m    100\u001b[0m     result \u001b[38;5;241m=\u001b[39m [x \u001b[38;5;28;01masync\u001b[39;00m \u001b[38;5;28;01mfor\u001b[39;00m x \u001b[38;5;129;01min\u001b[39;00m result]\n\u001b[1;32m    101\u001b[0m \u001b[38;5;28;01melif\u001b[39;00m isawaitable(result):\n\u001b[0;32m--> 102\u001b[0m     result \u001b[38;5;241m=\u001b[39m \u001b[38;5;28;01mawait\u001b[39;00m result\n\u001b[1;32m    103\u001b[0m \u001b[38;5;28;01melif\u001b[39;00m isgenerator(result):\n\u001b[1;32m    104\u001b[0m     result \u001b[38;5;241m=\u001b[39m \u001b[38;5;28mlist\u001b[39m(result)\n",
                        "File \u001b[0;32m~/miniconda3/envs/azure/lib/python3.10/site-packages/semantic_kernel/core_plugins/text_memory_plugin.py:64\u001b[0m, in \u001b[0;36mTextMemoryPlugin.recall\u001b[0;34m(self, ask, collection, relevance, limit)\u001b[0m\n\u001b[1;32m     36\u001b[0m \u001b[38;5;129m@kernel_function\u001b[39m(\n\u001b[1;32m     37\u001b[0m     description\u001b[38;5;241m=\u001b[39m\u001b[38;5;124m\"\u001b[39m\u001b[38;5;124mRecall a fact from the long term memory\u001b[39m\u001b[38;5;124m\"\u001b[39m,\n\u001b[1;32m     38\u001b[0m     name\u001b[38;5;241m=\u001b[39m\u001b[38;5;124m\"\u001b[39m\u001b[38;5;124mrecall\u001b[39m\u001b[38;5;124m\"\u001b[39m,\n\u001b[0;32m   (...)\u001b[0m\n\u001b[1;32m     47\u001b[0m     limit: Annotated[Optional[\u001b[38;5;28mint\u001b[39m], \u001b[38;5;124m\"\u001b[39m\u001b[38;5;124mThe maximum number of relevant memories to recall.\u001b[39m\u001b[38;5;124m\"\u001b[39m] \u001b[38;5;241m=\u001b[39m DEFAULT_LIMIT,\n\u001b[1;32m     48\u001b[0m ) \u001b[38;5;241m-\u001b[39m\u001b[38;5;241m>\u001b[39m \u001b[38;5;28mstr\u001b[39m:\n\u001b[1;32m     49\u001b[0m \u001b[38;5;250m    \u001b[39m\u001b[38;5;124;03m\"\"\"\u001b[39;00m\n\u001b[1;32m     50\u001b[0m \u001b[38;5;124;03m    Recall a fact from the long term memory.\u001b[39;00m\n\u001b[1;32m     51\u001b[0m \n\u001b[0;32m   (...)\u001b[0m\n\u001b[1;32m     62\u001b[0m \u001b[38;5;124;03m        The nearest item from the memory store as a string or empty string if not found.\u001b[39;00m\n\u001b[1;32m     63\u001b[0m \u001b[38;5;124;03m    \"\"\"\u001b[39;00m\n\u001b[0;32m---> 64\u001b[0m     results \u001b[38;5;241m=\u001b[39m \u001b[38;5;28;01mawait\u001b[39;00m \u001b[38;5;28mself\u001b[39m\u001b[38;5;241m.\u001b[39mmemory\u001b[38;5;241m.\u001b[39msearch(\n\u001b[1;32m     65\u001b[0m         collection\u001b[38;5;241m=\u001b[39mcollection,\n\u001b[1;32m     66\u001b[0m         query\u001b[38;5;241m=\u001b[39mask,\n\u001b[1;32m     67\u001b[0m         limit\u001b[38;5;241m=\u001b[39mlimit,\n\u001b[1;32m     68\u001b[0m         min_relevance_score\u001b[38;5;241m=\u001b[39mrelevance,\n\u001b[1;32m     69\u001b[0m     )\n\u001b[1;32m     70\u001b[0m     \u001b[38;5;28;01mif\u001b[39;00m results \u001b[38;5;129;01mis\u001b[39;00m \u001b[38;5;28;01mNone\u001b[39;00m \u001b[38;5;129;01mor\u001b[39;00m \u001b[38;5;28mlen\u001b[39m(results) \u001b[38;5;241m==\u001b[39m \u001b[38;5;241m0\u001b[39m:\n\u001b[1;32m     71\u001b[0m         logger\u001b[38;5;241m.\u001b[39mwarning(\u001b[38;5;124mf\u001b[39m\u001b[38;5;124m\"\u001b[39m\u001b[38;5;124mMemory not found in collection: \u001b[39m\u001b[38;5;132;01m{\u001b[39;00mcollection\u001b[38;5;132;01m}\u001b[39;00m\u001b[38;5;124m\"\u001b[39m)\n",
                        "File \u001b[0;32m~/miniconda3/envs/azure/lib/python3.10/site-packages/semantic_kernel/memory/semantic_text_memory.py:141\u001b[0m, in \u001b[0;36mSemanticTextMemory.search\u001b[0;34m(self, collection, query, limit, min_relevance_score, with_embeddings)\u001b[0m\n\u001b[1;32m    121\u001b[0m \u001b[38;5;28;01masync\u001b[39;00m \u001b[38;5;28;01mdef\u001b[39;00m \u001b[38;5;21msearch\u001b[39m(\n\u001b[1;32m    122\u001b[0m     \u001b[38;5;28mself\u001b[39m,\n\u001b[1;32m    123\u001b[0m     collection: \u001b[38;5;28mstr\u001b[39m,\n\u001b[0;32m   (...)\u001b[0m\n\u001b[1;32m    127\u001b[0m     with_embeddings: \u001b[38;5;28mbool\u001b[39m \u001b[38;5;241m=\u001b[39m \u001b[38;5;28;01mFalse\u001b[39;00m,\n\u001b[1;32m    128\u001b[0m ) \u001b[38;5;241m-\u001b[39m\u001b[38;5;241m>\u001b[39m List[MemoryQueryResult]:\n\u001b[1;32m    129\u001b[0m \u001b[38;5;250m    \u001b[39m\u001b[38;5;124;03m\"\"\"Search the memory (calls the memory store's get_nearest_matches method).\u001b[39;00m\n\u001b[1;32m    130\u001b[0m \n\u001b[1;32m    131\u001b[0m \u001b[38;5;124;03m    Arguments:\u001b[39;00m\n\u001b[0;32m   (...)\u001b[0m\n\u001b[1;32m    139\u001b[0m \u001b[38;5;124;03m        List[MemoryQueryResult] -- The list of MemoryQueryResult found.\u001b[39;00m\n\u001b[1;32m    140\u001b[0m \u001b[38;5;124;03m    \"\"\"\u001b[39;00m\n\u001b[0;32m--> 141\u001b[0m     query_embedding \u001b[38;5;241m=\u001b[39m (\u001b[38;5;28;01mawait\u001b[39;00m \u001b[38;5;28mself\u001b[39m\u001b[38;5;241m.\u001b[39m_embeddings_generator\u001b[38;5;241m.\u001b[39mgenerate_embeddings([query]))[\u001b[38;5;241m0\u001b[39m]\n\u001b[1;32m    142\u001b[0m     results \u001b[38;5;241m=\u001b[39m \u001b[38;5;28;01mawait\u001b[39;00m \u001b[38;5;28mself\u001b[39m\u001b[38;5;241m.\u001b[39m_storage\u001b[38;5;241m.\u001b[39mget_nearest_matches(\n\u001b[1;32m    143\u001b[0m         collection_name\u001b[38;5;241m=\u001b[39mcollection,\n\u001b[1;32m    144\u001b[0m         embedding\u001b[38;5;241m=\u001b[39mquery_embedding,\n\u001b[0;32m   (...)\u001b[0m\n\u001b[1;32m    147\u001b[0m         with_embeddings\u001b[38;5;241m=\u001b[39mwith_embeddings,\n\u001b[1;32m    148\u001b[0m     )\n\u001b[1;32m    150\u001b[0m     \u001b[38;5;28;01mreturn\u001b[39;00m [MemoryQueryResult\u001b[38;5;241m.\u001b[39mfrom_memory_record(r[\u001b[38;5;241m0\u001b[39m], r[\u001b[38;5;241m1\u001b[39m]) \u001b[38;5;28;01mfor\u001b[39;00m r \u001b[38;5;129;01min\u001b[39;00m results]\n",
                        "File \u001b[0;32m~/miniconda3/envs/azure/lib/python3.10/site-packages/semantic_kernel/connectors/ai/open_ai/services/open_ai_text_embedding_base.py:38\u001b[0m, in \u001b[0;36mOpenAITextEmbeddingBase.generate_embeddings\u001b[0;34m(self, texts, batch_size, **kwargs)\u001b[0m\n\u001b[1;32m     36\u001b[0m     batch \u001b[38;5;241m=\u001b[39m texts[i : i \u001b[38;5;241m+\u001b[39m batch_size]  \u001b[38;5;66;03m# noqa: E203\u001b[39;00m\n\u001b[1;32m     37\u001b[0m     settings\u001b[38;5;241m.\u001b[39minput \u001b[38;5;241m=\u001b[39m batch\n\u001b[0;32m---> 38\u001b[0m     raw_embedding \u001b[38;5;241m=\u001b[39m \u001b[38;5;28;01mawait\u001b[39;00m \u001b[38;5;28mself\u001b[39m\u001b[38;5;241m.\u001b[39m_send_embedding_request(\n\u001b[1;32m     39\u001b[0m         settings\u001b[38;5;241m=\u001b[39msettings,\n\u001b[1;32m     40\u001b[0m     )\n\u001b[1;32m     41\u001b[0m     raw_embeddings\u001b[38;5;241m.\u001b[39mextend(raw_embedding)\n\u001b[1;32m     42\u001b[0m \u001b[38;5;28;01mreturn\u001b[39;00m array(raw_embeddings)\n",
                        "File \u001b[0;32m~/miniconda3/envs/azure/lib/python3.10/site-packages/semantic_kernel/connectors/ai/open_ai/services/open_ai_handler.py:80\u001b[0m, in \u001b[0;36mOpenAIHandler._send_embedding_request\u001b[0;34m(self, settings)\u001b[0m\n\u001b[1;32m     78\u001b[0m \u001b[38;5;28;01masync\u001b[39;00m \u001b[38;5;28;01mdef\u001b[39;00m \u001b[38;5;21m_send_embedding_request\u001b[39m(\u001b[38;5;28mself\u001b[39m, settings: OpenAIEmbeddingPromptExecutionSettings) \u001b[38;5;241m-\u001b[39m\u001b[38;5;241m>\u001b[39m List[ndarray]:\n\u001b[1;32m     79\u001b[0m     \u001b[38;5;28;01mtry\u001b[39;00m:\n\u001b[0;32m---> 80\u001b[0m         response \u001b[38;5;241m=\u001b[39m \u001b[38;5;28;01mawait\u001b[39;00m \u001b[38;5;28mself\u001b[39m\u001b[38;5;241m.\u001b[39mclient\u001b[38;5;241m.\u001b[39membeddings\u001b[38;5;241m.\u001b[39mcreate(\u001b[38;5;241m*\u001b[39m\u001b[38;5;241m*\u001b[39msettings\u001b[38;5;241m.\u001b[39mprepare_settings_dict())\n\u001b[1;32m     81\u001b[0m         \u001b[38;5;28mself\u001b[39m\u001b[38;5;241m.\u001b[39mstore_usage(response)\n\u001b[1;32m     82\u001b[0m         \u001b[38;5;66;03m# make numpy arrays from the response\u001b[39;00m\n\u001b[1;32m     83\u001b[0m         \u001b[38;5;66;03m# TODO: the openai response is cast to a list[float], could be used instead of ndarray\u001b[39;00m\n",
                        "File \u001b[0;32m~/miniconda3/envs/azure/lib/python3.10/site-packages/openai/resources/embeddings.py:215\u001b[0m, in \u001b[0;36mAsyncEmbeddings.create\u001b[0;34m(self, input, model, dimensions, encoding_format, user, extra_headers, extra_query, extra_body, timeout)\u001b[0m\n\u001b[1;32m    209\u001b[0m         embedding\u001b[38;5;241m.\u001b[39membedding \u001b[38;5;241m=\u001b[39m np\u001b[38;5;241m.\u001b[39mfrombuffer(  \u001b[38;5;66;03m# type: ignore[no-untyped-call]\u001b[39;00m\n\u001b[1;32m    210\u001b[0m             base64\u001b[38;5;241m.\u001b[39mb64decode(data), dtype\u001b[38;5;241m=\u001b[39m\u001b[38;5;124m\"\u001b[39m\u001b[38;5;124mfloat32\u001b[39m\u001b[38;5;124m\"\u001b[39m\n\u001b[1;32m    211\u001b[0m         )\u001b[38;5;241m.\u001b[39mtolist()\n\u001b[1;32m    213\u001b[0m     \u001b[38;5;28;01mreturn\u001b[39;00m obj\n\u001b[0;32m--> 215\u001b[0m \u001b[38;5;28;01mreturn\u001b[39;00m \u001b[38;5;28;01mawait\u001b[39;00m \u001b[38;5;28mself\u001b[39m\u001b[38;5;241m.\u001b[39m_post(\n\u001b[1;32m    216\u001b[0m     \u001b[38;5;124m\"\u001b[39m\u001b[38;5;124m/embeddings\u001b[39m\u001b[38;5;124m\"\u001b[39m,\n\u001b[1;32m    217\u001b[0m     body\u001b[38;5;241m=\u001b[39mmaybe_transform(params, embedding_create_params\u001b[38;5;241m.\u001b[39mEmbeddingCreateParams),\n\u001b[1;32m    218\u001b[0m     options\u001b[38;5;241m=\u001b[39mmake_request_options(\n\u001b[1;32m    219\u001b[0m         extra_headers\u001b[38;5;241m=\u001b[39mextra_headers,\n\u001b[1;32m    220\u001b[0m         extra_query\u001b[38;5;241m=\u001b[39mextra_query,\n\u001b[1;32m    221\u001b[0m         extra_body\u001b[38;5;241m=\u001b[39mextra_body,\n\u001b[1;32m    222\u001b[0m         timeout\u001b[38;5;241m=\u001b[39mtimeout,\n\u001b[1;32m    223\u001b[0m         post_parser\u001b[38;5;241m=\u001b[39mparser,\n\u001b[1;32m    224\u001b[0m     ),\n\u001b[1;32m    225\u001b[0m     cast_to\u001b[38;5;241m=\u001b[39mCreateEmbeddingResponse,\n\u001b[1;32m    226\u001b[0m )\n",
                        "File \u001b[0;32m~/miniconda3/envs/azure/lib/python3.10/site-packages/openai/_base_client.py:1782\u001b[0m, in \u001b[0;36mAsyncAPIClient.post\u001b[0;34m(self, path, cast_to, body, files, options, stream, stream_cls)\u001b[0m\n\u001b[1;32m   1768\u001b[0m \u001b[38;5;28;01masync\u001b[39;00m \u001b[38;5;28;01mdef\u001b[39;00m \u001b[38;5;21mpost\u001b[39m(\n\u001b[1;32m   1769\u001b[0m     \u001b[38;5;28mself\u001b[39m,\n\u001b[1;32m   1770\u001b[0m     path: \u001b[38;5;28mstr\u001b[39m,\n\u001b[0;32m   (...)\u001b[0m\n\u001b[1;32m   1777\u001b[0m     stream_cls: \u001b[38;5;28mtype\u001b[39m[_AsyncStreamT] \u001b[38;5;241m|\u001b[39m \u001b[38;5;28;01mNone\u001b[39;00m \u001b[38;5;241m=\u001b[39m \u001b[38;5;28;01mNone\u001b[39;00m,\n\u001b[1;32m   1778\u001b[0m ) \u001b[38;5;241m-\u001b[39m\u001b[38;5;241m>\u001b[39m ResponseT \u001b[38;5;241m|\u001b[39m _AsyncStreamT:\n\u001b[1;32m   1779\u001b[0m     opts \u001b[38;5;241m=\u001b[39m FinalRequestOptions\u001b[38;5;241m.\u001b[39mconstruct(\n\u001b[1;32m   1780\u001b[0m         method\u001b[38;5;241m=\u001b[39m\u001b[38;5;124m\"\u001b[39m\u001b[38;5;124mpost\u001b[39m\u001b[38;5;124m\"\u001b[39m, url\u001b[38;5;241m=\u001b[39mpath, json_data\u001b[38;5;241m=\u001b[39mbody, files\u001b[38;5;241m=\u001b[39m\u001b[38;5;28;01mawait\u001b[39;00m async_to_httpx_files(files), \u001b[38;5;241m*\u001b[39m\u001b[38;5;241m*\u001b[39moptions\n\u001b[1;32m   1781\u001b[0m     )\n\u001b[0;32m-> 1782\u001b[0m     \u001b[38;5;28;01mreturn\u001b[39;00m \u001b[38;5;28;01mawait\u001b[39;00m \u001b[38;5;28mself\u001b[39m\u001b[38;5;241m.\u001b[39mrequest(cast_to, opts, stream\u001b[38;5;241m=\u001b[39mstream, stream_cls\u001b[38;5;241m=\u001b[39mstream_cls)\n",
                        "File \u001b[0;32m~/miniconda3/envs/azure/lib/python3.10/site-packages/openai/_base_client.py:1485\u001b[0m, in \u001b[0;36mAsyncAPIClient.request\u001b[0;34m(self, cast_to, options, stream, stream_cls, remaining_retries)\u001b[0m\n\u001b[1;32m   1476\u001b[0m \u001b[38;5;28;01masync\u001b[39;00m \u001b[38;5;28;01mdef\u001b[39;00m \u001b[38;5;21mrequest\u001b[39m(\n\u001b[1;32m   1477\u001b[0m     \u001b[38;5;28mself\u001b[39m,\n\u001b[1;32m   1478\u001b[0m     cast_to: Type[ResponseT],\n\u001b[0;32m   (...)\u001b[0m\n\u001b[1;32m   1483\u001b[0m     remaining_retries: Optional[\u001b[38;5;28mint\u001b[39m] \u001b[38;5;241m=\u001b[39m \u001b[38;5;28;01mNone\u001b[39;00m,\n\u001b[1;32m   1484\u001b[0m ) \u001b[38;5;241m-\u001b[39m\u001b[38;5;241m>\u001b[39m ResponseT \u001b[38;5;241m|\u001b[39m _AsyncStreamT:\n\u001b[0;32m-> 1485\u001b[0m     \u001b[38;5;28;01mreturn\u001b[39;00m \u001b[38;5;28;01mawait\u001b[39;00m \u001b[38;5;28mself\u001b[39m\u001b[38;5;241m.\u001b[39m_request(\n\u001b[1;32m   1486\u001b[0m         cast_to\u001b[38;5;241m=\u001b[39mcast_to,\n\u001b[1;32m   1487\u001b[0m         options\u001b[38;5;241m=\u001b[39moptions,\n\u001b[1;32m   1488\u001b[0m         stream\u001b[38;5;241m=\u001b[39mstream,\n\u001b[1;32m   1489\u001b[0m         stream_cls\u001b[38;5;241m=\u001b[39mstream_cls,\n\u001b[1;32m   1490\u001b[0m         remaining_retries\u001b[38;5;241m=\u001b[39mremaining_retries,\n\u001b[1;32m   1491\u001b[0m     )\n",
                        "File \u001b[0;32m~/miniconda3/envs/azure/lib/python3.10/site-packages/openai/_base_client.py:1514\u001b[0m, in \u001b[0;36mAsyncAPIClient._request\u001b[0;34m(self, cast_to, options, stream, stream_cls, remaining_retries)\u001b[0m\n\u001b[1;32m   1511\u001b[0m     kwargs[\u001b[38;5;124m\"\u001b[39m\u001b[38;5;124mauth\u001b[39m\u001b[38;5;124m\"\u001b[39m] \u001b[38;5;241m=\u001b[39m \u001b[38;5;28mself\u001b[39m\u001b[38;5;241m.\u001b[39mcustom_auth\n\u001b[1;32m   1513\u001b[0m \u001b[38;5;28;01mtry\u001b[39;00m:\n\u001b[0;32m-> 1514\u001b[0m     response \u001b[38;5;241m=\u001b[39m \u001b[38;5;28;01mawait\u001b[39;00m \u001b[38;5;28mself\u001b[39m\u001b[38;5;241m.\u001b[39m_client\u001b[38;5;241m.\u001b[39msend(\n\u001b[1;32m   1515\u001b[0m         request,\n\u001b[1;32m   1516\u001b[0m         stream\u001b[38;5;241m=\u001b[39mstream \u001b[38;5;129;01mor\u001b[39;00m \u001b[38;5;28mself\u001b[39m\u001b[38;5;241m.\u001b[39m_should_stream_response_body(request\u001b[38;5;241m=\u001b[39mrequest),\n\u001b[1;32m   1517\u001b[0m         \u001b[38;5;241m*\u001b[39m\u001b[38;5;241m*\u001b[39mkwargs,\n\u001b[1;32m   1518\u001b[0m     )\n\u001b[1;32m   1519\u001b[0m \u001b[38;5;28;01mexcept\u001b[39;00m httpx\u001b[38;5;241m.\u001b[39mTimeoutException \u001b[38;5;28;01mas\u001b[39;00m err:\n\u001b[1;32m   1520\u001b[0m     log\u001b[38;5;241m.\u001b[39mdebug(\u001b[38;5;124m\"\u001b[39m\u001b[38;5;124mEncountered httpx.TimeoutException\u001b[39m\u001b[38;5;124m\"\u001b[39m, exc_info\u001b[38;5;241m=\u001b[39m\u001b[38;5;28;01mTrue\u001b[39;00m)\n",
                        "File \u001b[0;32m~/miniconda3/envs/azure/lib/python3.10/site-packages/httpx/_client.py:1661\u001b[0m, in \u001b[0;36mAsyncClient.send\u001b[0;34m(self, request, stream, auth, follow_redirects)\u001b[0m\n\u001b[1;32m   1653\u001b[0m follow_redirects \u001b[38;5;241m=\u001b[39m (\n\u001b[1;32m   1654\u001b[0m     \u001b[38;5;28mself\u001b[39m\u001b[38;5;241m.\u001b[39mfollow_redirects\n\u001b[1;32m   1655\u001b[0m     \u001b[38;5;28;01mif\u001b[39;00m \u001b[38;5;28misinstance\u001b[39m(follow_redirects, UseClientDefault)\n\u001b[1;32m   1656\u001b[0m     \u001b[38;5;28;01melse\u001b[39;00m follow_redirects\n\u001b[1;32m   1657\u001b[0m )\n\u001b[1;32m   1659\u001b[0m auth \u001b[38;5;241m=\u001b[39m \u001b[38;5;28mself\u001b[39m\u001b[38;5;241m.\u001b[39m_build_request_auth(request, auth)\n\u001b[0;32m-> 1661\u001b[0m response \u001b[38;5;241m=\u001b[39m \u001b[38;5;28;01mawait\u001b[39;00m \u001b[38;5;28mself\u001b[39m\u001b[38;5;241m.\u001b[39m_send_handling_auth(\n\u001b[1;32m   1662\u001b[0m     request,\n\u001b[1;32m   1663\u001b[0m     auth\u001b[38;5;241m=\u001b[39mauth,\n\u001b[1;32m   1664\u001b[0m     follow_redirects\u001b[38;5;241m=\u001b[39mfollow_redirects,\n\u001b[1;32m   1665\u001b[0m     history\u001b[38;5;241m=\u001b[39m[],\n\u001b[1;32m   1666\u001b[0m )\n\u001b[1;32m   1667\u001b[0m \u001b[38;5;28;01mtry\u001b[39;00m:\n\u001b[1;32m   1668\u001b[0m     \u001b[38;5;28;01mif\u001b[39;00m \u001b[38;5;129;01mnot\u001b[39;00m stream:\n",
                        "File \u001b[0;32m~/miniconda3/envs/azure/lib/python3.10/site-packages/httpx/_client.py:1689\u001b[0m, in \u001b[0;36mAsyncClient._send_handling_auth\u001b[0;34m(self, request, auth, follow_redirects, history)\u001b[0m\n\u001b[1;32m   1686\u001b[0m request \u001b[38;5;241m=\u001b[39m \u001b[38;5;28;01mawait\u001b[39;00m auth_flow\u001b[38;5;241m.\u001b[39m\u001b[38;5;21m__anext__\u001b[39m()\n\u001b[1;32m   1688\u001b[0m \u001b[38;5;28;01mwhile\u001b[39;00m \u001b[38;5;28;01mTrue\u001b[39;00m:\n\u001b[0;32m-> 1689\u001b[0m     response \u001b[38;5;241m=\u001b[39m \u001b[38;5;28;01mawait\u001b[39;00m \u001b[38;5;28mself\u001b[39m\u001b[38;5;241m.\u001b[39m_send_handling_redirects(\n\u001b[1;32m   1690\u001b[0m         request,\n\u001b[1;32m   1691\u001b[0m         follow_redirects\u001b[38;5;241m=\u001b[39mfollow_redirects,\n\u001b[1;32m   1692\u001b[0m         history\u001b[38;5;241m=\u001b[39mhistory,\n\u001b[1;32m   1693\u001b[0m     )\n\u001b[1;32m   1694\u001b[0m     \u001b[38;5;28;01mtry\u001b[39;00m:\n\u001b[1;32m   1695\u001b[0m         \u001b[38;5;28;01mtry\u001b[39;00m:\n",
                        "File \u001b[0;32m~/miniconda3/envs/azure/lib/python3.10/site-packages/httpx/_client.py:1726\u001b[0m, in \u001b[0;36mAsyncClient._send_handling_redirects\u001b[0;34m(self, request, follow_redirects, history)\u001b[0m\n\u001b[1;32m   1723\u001b[0m \u001b[38;5;28;01mfor\u001b[39;00m hook \u001b[38;5;129;01min\u001b[39;00m \u001b[38;5;28mself\u001b[39m\u001b[38;5;241m.\u001b[39m_event_hooks[\u001b[38;5;124m\"\u001b[39m\u001b[38;5;124mrequest\u001b[39m\u001b[38;5;124m\"\u001b[39m]:\n\u001b[1;32m   1724\u001b[0m     \u001b[38;5;28;01mawait\u001b[39;00m hook(request)\n\u001b[0;32m-> 1726\u001b[0m response \u001b[38;5;241m=\u001b[39m \u001b[38;5;28;01mawait\u001b[39;00m \u001b[38;5;28mself\u001b[39m\u001b[38;5;241m.\u001b[39m_send_single_request(request)\n\u001b[1;32m   1727\u001b[0m \u001b[38;5;28;01mtry\u001b[39;00m:\n\u001b[1;32m   1728\u001b[0m     \u001b[38;5;28;01mfor\u001b[39;00m hook \u001b[38;5;129;01min\u001b[39;00m \u001b[38;5;28mself\u001b[39m\u001b[38;5;241m.\u001b[39m_event_hooks[\u001b[38;5;124m\"\u001b[39m\u001b[38;5;124mresponse\u001b[39m\u001b[38;5;124m\"\u001b[39m]:\n",
                        "File \u001b[0;32m~/miniconda3/envs/azure/lib/python3.10/site-packages/httpx/_client.py:1763\u001b[0m, in \u001b[0;36mAsyncClient._send_single_request\u001b[0;34m(self, request)\u001b[0m\n\u001b[1;32m   1758\u001b[0m     \u001b[38;5;28;01mraise\u001b[39;00m \u001b[38;5;167;01mRuntimeError\u001b[39;00m(\n\u001b[1;32m   1759\u001b[0m         \u001b[38;5;124m\"\u001b[39m\u001b[38;5;124mAttempted to send an sync request with an AsyncClient instance.\u001b[39m\u001b[38;5;124m\"\u001b[39m\n\u001b[1;32m   1760\u001b[0m     )\n\u001b[1;32m   1762\u001b[0m \u001b[38;5;28;01mwith\u001b[39;00m request_context(request\u001b[38;5;241m=\u001b[39mrequest):\n\u001b[0;32m-> 1763\u001b[0m     response \u001b[38;5;241m=\u001b[39m \u001b[38;5;28;01mawait\u001b[39;00m transport\u001b[38;5;241m.\u001b[39mhandle_async_request(request)\n\u001b[1;32m   1765\u001b[0m \u001b[38;5;28;01massert\u001b[39;00m \u001b[38;5;28misinstance\u001b[39m(response\u001b[38;5;241m.\u001b[39mstream, AsyncByteStream)\n\u001b[1;32m   1766\u001b[0m response\u001b[38;5;241m.\u001b[39mrequest \u001b[38;5;241m=\u001b[39m request\n",
                        "File \u001b[0;32m~/miniconda3/envs/azure/lib/python3.10/site-packages/httpx/_transports/default.py:373\u001b[0m, in \u001b[0;36mAsyncHTTPTransport.handle_async_request\u001b[0;34m(self, request)\u001b[0m\n\u001b[1;32m    360\u001b[0m req \u001b[38;5;241m=\u001b[39m httpcore\u001b[38;5;241m.\u001b[39mRequest(\n\u001b[1;32m    361\u001b[0m     method\u001b[38;5;241m=\u001b[39mrequest\u001b[38;5;241m.\u001b[39mmethod,\n\u001b[1;32m    362\u001b[0m     url\u001b[38;5;241m=\u001b[39mhttpcore\u001b[38;5;241m.\u001b[39mURL(\n\u001b[0;32m   (...)\u001b[0m\n\u001b[1;32m    370\u001b[0m     extensions\u001b[38;5;241m=\u001b[39mrequest\u001b[38;5;241m.\u001b[39mextensions,\n\u001b[1;32m    371\u001b[0m )\n\u001b[1;32m    372\u001b[0m \u001b[38;5;28;01mwith\u001b[39;00m map_httpcore_exceptions():\n\u001b[0;32m--> 373\u001b[0m     resp \u001b[38;5;241m=\u001b[39m \u001b[38;5;28;01mawait\u001b[39;00m \u001b[38;5;28mself\u001b[39m\u001b[38;5;241m.\u001b[39m_pool\u001b[38;5;241m.\u001b[39mhandle_async_request(req)\n\u001b[1;32m    375\u001b[0m \u001b[38;5;28;01massert\u001b[39;00m \u001b[38;5;28misinstance\u001b[39m(resp\u001b[38;5;241m.\u001b[39mstream, typing\u001b[38;5;241m.\u001b[39mAsyncIterable)\n\u001b[1;32m    377\u001b[0m \u001b[38;5;28;01mreturn\u001b[39;00m Response(\n\u001b[1;32m    378\u001b[0m     status_code\u001b[38;5;241m=\u001b[39mresp\u001b[38;5;241m.\u001b[39mstatus,\n\u001b[1;32m    379\u001b[0m     headers\u001b[38;5;241m=\u001b[39mresp\u001b[38;5;241m.\u001b[39mheaders,\n\u001b[1;32m    380\u001b[0m     stream\u001b[38;5;241m=\u001b[39mAsyncResponseStream(resp\u001b[38;5;241m.\u001b[39mstream),\n\u001b[1;32m    381\u001b[0m     extensions\u001b[38;5;241m=\u001b[39mresp\u001b[38;5;241m.\u001b[39mextensions,\n\u001b[1;32m    382\u001b[0m )\n",
                        "File \u001b[0;32m~/miniconda3/envs/azure/lib/python3.10/site-packages/httpcore/_async/connection_pool.py:216\u001b[0m, in \u001b[0;36mAsyncConnectionPool.handle_async_request\u001b[0;34m(self, request)\u001b[0m\n\u001b[1;32m    213\u001b[0m         closing \u001b[38;5;241m=\u001b[39m \u001b[38;5;28mself\u001b[39m\u001b[38;5;241m.\u001b[39m_assign_requests_to_connections()\n\u001b[1;32m    215\u001b[0m     \u001b[38;5;28;01mawait\u001b[39;00m \u001b[38;5;28mself\u001b[39m\u001b[38;5;241m.\u001b[39m_close_connections(closing)\n\u001b[0;32m--> 216\u001b[0m     \u001b[38;5;28;01mraise\u001b[39;00m exc \u001b[38;5;28;01mfrom\u001b[39;00m \u001b[38;5;28;01mNone\u001b[39;00m\n\u001b[1;32m    218\u001b[0m \u001b[38;5;66;03m# Return the response. Note that in this case we still have to manage\u001b[39;00m\n\u001b[1;32m    219\u001b[0m \u001b[38;5;66;03m# the point at which the response is closed.\u001b[39;00m\n\u001b[1;32m    220\u001b[0m \u001b[38;5;28;01massert\u001b[39;00m \u001b[38;5;28misinstance\u001b[39m(response\u001b[38;5;241m.\u001b[39mstream, AsyncIterable)\n",
                        "File \u001b[0;32m~/miniconda3/envs/azure/lib/python3.10/site-packages/httpcore/_async/connection_pool.py:196\u001b[0m, in \u001b[0;36mAsyncConnectionPool.handle_async_request\u001b[0;34m(self, request)\u001b[0m\n\u001b[1;32m    192\u001b[0m connection \u001b[38;5;241m=\u001b[39m \u001b[38;5;28;01mawait\u001b[39;00m pool_request\u001b[38;5;241m.\u001b[39mwait_for_connection(timeout\u001b[38;5;241m=\u001b[39mtimeout)\n\u001b[1;32m    194\u001b[0m \u001b[38;5;28;01mtry\u001b[39;00m:\n\u001b[1;32m    195\u001b[0m     \u001b[38;5;66;03m# Send the request on the assigned connection.\u001b[39;00m\n\u001b[0;32m--> 196\u001b[0m     response \u001b[38;5;241m=\u001b[39m \u001b[38;5;28;01mawait\u001b[39;00m connection\u001b[38;5;241m.\u001b[39mhandle_async_request(\n\u001b[1;32m    197\u001b[0m         pool_request\u001b[38;5;241m.\u001b[39mrequest\n\u001b[1;32m    198\u001b[0m     )\n\u001b[1;32m    199\u001b[0m \u001b[38;5;28;01mexcept\u001b[39;00m ConnectionNotAvailable:\n\u001b[1;32m    200\u001b[0m     \u001b[38;5;66;03m# In some cases a connection may initially be available to\u001b[39;00m\n\u001b[1;32m    201\u001b[0m     \u001b[38;5;66;03m# handle a request, but then become unavailable.\u001b[39;00m\n\u001b[1;32m    202\u001b[0m     \u001b[38;5;66;03m#\u001b[39;00m\n\u001b[1;32m    203\u001b[0m     \u001b[38;5;66;03m# In this case we clear the connection and try again.\u001b[39;00m\n\u001b[1;32m    204\u001b[0m     pool_request\u001b[38;5;241m.\u001b[39mclear_connection()\n",
                        "File \u001b[0;32m~/miniconda3/envs/azure/lib/python3.10/site-packages/httpcore/_async/connection.py:99\u001b[0m, in \u001b[0;36mAsyncHTTPConnection.handle_async_request\u001b[0;34m(self, request)\u001b[0m\n\u001b[1;32m     97\u001b[0m \u001b[38;5;28;01mexcept\u001b[39;00m \u001b[38;5;167;01mBaseException\u001b[39;00m \u001b[38;5;28;01mas\u001b[39;00m exc:\n\u001b[1;32m     98\u001b[0m     \u001b[38;5;28mself\u001b[39m\u001b[38;5;241m.\u001b[39m_connect_failed \u001b[38;5;241m=\u001b[39m \u001b[38;5;28;01mTrue\u001b[39;00m\n\u001b[0;32m---> 99\u001b[0m     \u001b[38;5;28;01mraise\u001b[39;00m exc\n\u001b[1;32m    101\u001b[0m \u001b[38;5;28;01mreturn\u001b[39;00m \u001b[38;5;28;01mawait\u001b[39;00m \u001b[38;5;28mself\u001b[39m\u001b[38;5;241m.\u001b[39m_connection\u001b[38;5;241m.\u001b[39mhandle_async_request(request)\n",
                        "File \u001b[0;32m~/miniconda3/envs/azure/lib/python3.10/site-packages/httpcore/_async/connection.py:74\u001b[0m, in \u001b[0;36mAsyncHTTPConnection.handle_async_request\u001b[0;34m(self, request)\u001b[0m\n\u001b[1;32m     69\u001b[0m     \u001b[38;5;28;01mraise\u001b[39;00m \u001b[38;5;167;01mRuntimeError\u001b[39;00m(\n\u001b[1;32m     70\u001b[0m         \u001b[38;5;124mf\u001b[39m\u001b[38;5;124m\"\u001b[39m\u001b[38;5;124mAttempted to send request to \u001b[39m\u001b[38;5;132;01m{\u001b[39;00mrequest\u001b[38;5;241m.\u001b[39murl\u001b[38;5;241m.\u001b[39morigin\u001b[38;5;132;01m}\u001b[39;00m\u001b[38;5;124m on connection to \u001b[39m\u001b[38;5;132;01m{\u001b[39;00m\u001b[38;5;28mself\u001b[39m\u001b[38;5;241m.\u001b[39m_origin\u001b[38;5;132;01m}\u001b[39;00m\u001b[38;5;124m\"\u001b[39m\n\u001b[1;32m     71\u001b[0m     )\n\u001b[1;32m     73\u001b[0m \u001b[38;5;28;01mtry\u001b[39;00m:\n\u001b[0;32m---> 74\u001b[0m     \u001b[38;5;28;01masync\u001b[39;00m \u001b[38;5;28;01mwith\u001b[39;00m \u001b[38;5;28mself\u001b[39m\u001b[38;5;241m.\u001b[39m_request_lock:\n\u001b[1;32m     75\u001b[0m         \u001b[38;5;28;01mif\u001b[39;00m \u001b[38;5;28mself\u001b[39m\u001b[38;5;241m.\u001b[39m_connection \u001b[38;5;129;01mis\u001b[39;00m \u001b[38;5;28;01mNone\u001b[39;00m:\n\u001b[1;32m     76\u001b[0m             stream \u001b[38;5;241m=\u001b[39m \u001b[38;5;28;01mawait\u001b[39;00m \u001b[38;5;28mself\u001b[39m\u001b[38;5;241m.\u001b[39m_connect(request)\n",
                        "File \u001b[0;32m~/miniconda3/envs/azure/lib/python3.10/site-packages/httpcore/_synchronization.py:76\u001b[0m, in \u001b[0;36mAsyncLock.__aenter__\u001b[0;34m(self)\u001b[0m\n\u001b[1;32m     74\u001b[0m     \u001b[38;5;28;01mawait\u001b[39;00m \u001b[38;5;28mself\u001b[39m\u001b[38;5;241m.\u001b[39m_trio_lock\u001b[38;5;241m.\u001b[39macquire()\n\u001b[1;32m     75\u001b[0m \u001b[38;5;28;01melif\u001b[39;00m \u001b[38;5;28mself\u001b[39m\u001b[38;5;241m.\u001b[39m_backend \u001b[38;5;241m==\u001b[39m \u001b[38;5;124m\"\u001b[39m\u001b[38;5;124masyncio\u001b[39m\u001b[38;5;124m\"\u001b[39m:\n\u001b[0;32m---> 76\u001b[0m     \u001b[38;5;28;01mawait\u001b[39;00m \u001b[38;5;28mself\u001b[39m\u001b[38;5;241m.\u001b[39m_anyio_lock\u001b[38;5;241m.\u001b[39macquire()\n\u001b[1;32m     78\u001b[0m \u001b[38;5;28;01mreturn\u001b[39;00m \u001b[38;5;28mself\u001b[39m\n",
                        "File \u001b[0;32m~/miniconda3/envs/azure/lib/python3.10/site-packages/anyio/_core/_synchronization.py:179\u001b[0m, in \u001b[0;36mLock.acquire\u001b[0;34m(self)\u001b[0m\n\u001b[1;32m    177\u001b[0m \u001b[38;5;28;01melse\u001b[39;00m:\n\u001b[1;32m    178\u001b[0m     \u001b[38;5;28;01mtry\u001b[39;00m:\n\u001b[0;32m--> 179\u001b[0m         \u001b[38;5;28;01mawait\u001b[39;00m cancel_shielded_checkpoint()\n\u001b[1;32m    180\u001b[0m     \u001b[38;5;28;01mexcept\u001b[39;00m \u001b[38;5;167;01mBaseException\u001b[39;00m:\n\u001b[1;32m    181\u001b[0m         \u001b[38;5;28mself\u001b[39m\u001b[38;5;241m.\u001b[39mrelease()\n",
                        "File \u001b[0;32m~/miniconda3/envs/azure/lib/python3.10/site-packages/anyio/lowlevel.py:55\u001b[0m, in \u001b[0;36mcancel_shielded_checkpoint\u001b[0;34m()\u001b[0m\n\u001b[1;32m     42\u001b[0m \u001b[38;5;28;01masync\u001b[39;00m \u001b[38;5;28;01mdef\u001b[39;00m \u001b[38;5;21mcancel_shielded_checkpoint\u001b[39m() \u001b[38;5;241m-\u001b[39m\u001b[38;5;241m>\u001b[39m \u001b[38;5;28;01mNone\u001b[39;00m:\n\u001b[1;32m     43\u001b[0m \u001b[38;5;250m    \u001b[39m\u001b[38;5;124;03m\"\"\"\u001b[39;00m\n\u001b[1;32m     44\u001b[0m \u001b[38;5;124;03m    Allow the scheduler to switch to another task but without checking for cancellation.\u001b[39;00m\n\u001b[1;32m     45\u001b[0m \n\u001b[0;32m   (...)\u001b[0m\n\u001b[1;32m     53\u001b[0m \n\u001b[1;32m     54\u001b[0m \u001b[38;5;124;03m    \"\"\"\u001b[39;00m\n\u001b[0;32m---> 55\u001b[0m     \u001b[38;5;28;01mawait\u001b[39;00m get_async_backend()\u001b[38;5;241m.\u001b[39mcancel_shielded_checkpoint()\n",
                        "File \u001b[0;32m~/miniconda3/envs/azure/lib/python3.10/site-packages/anyio/_backends/_asyncio.py:2041\u001b[0m, in \u001b[0;36mAsyncIOBackend.cancel_shielded_checkpoint\u001b[0;34m(cls)\u001b[0m\n\u001b[1;32m   2038\u001b[0m \u001b[38;5;129m@classmethod\u001b[39m\n\u001b[1;32m   2039\u001b[0m \u001b[38;5;28;01masync\u001b[39;00m \u001b[38;5;28;01mdef\u001b[39;00m \u001b[38;5;21mcancel_shielded_checkpoint\u001b[39m(\u001b[38;5;28mcls\u001b[39m) \u001b[38;5;241m-\u001b[39m\u001b[38;5;241m>\u001b[39m \u001b[38;5;28;01mNone\u001b[39;00m:\n\u001b[1;32m   2040\u001b[0m     \u001b[38;5;28;01mwith\u001b[39;00m CancelScope(shield\u001b[38;5;241m=\u001b[39m\u001b[38;5;28;01mTrue\u001b[39;00m):\n\u001b[0;32m-> 2041\u001b[0m         \u001b[38;5;28;01mawait\u001b[39;00m sleep(\u001b[38;5;241m0\u001b[39m)\n",
                        "File \u001b[0;32m~/miniconda3/envs/azure/lib/python3.10/asyncio/tasks.py:596\u001b[0m, in \u001b[0;36msleep\u001b[0;34m(delay, result)\u001b[0m\n\u001b[1;32m    594\u001b[0m \u001b[38;5;250m\u001b[39m\u001b[38;5;124;03m\"\"\"Coroutine that completes after a given time (in seconds).\"\"\"\u001b[39;00m\n\u001b[1;32m    595\u001b[0m \u001b[38;5;28;01mif\u001b[39;00m delay \u001b[38;5;241m<\u001b[39m\u001b[38;5;241m=\u001b[39m \u001b[38;5;241m0\u001b[39m:\n\u001b[0;32m--> 596\u001b[0m     \u001b[38;5;28;01mawait\u001b[39;00m __sleep0()\n\u001b[1;32m    597\u001b[0m     \u001b[38;5;28;01mreturn\u001b[39;00m result\n\u001b[1;32m    599\u001b[0m loop \u001b[38;5;241m=\u001b[39m events\u001b[38;5;241m.\u001b[39mget_running_loop()\n",
                        "File \u001b[0;32m~/miniconda3/envs/azure/lib/python3.10/asyncio/tasks.py:590\u001b[0m, in \u001b[0;36m__sleep0\u001b[0;34m()\u001b[0m\n\u001b[1;32m    581\u001b[0m \u001b[38;5;129m@types\u001b[39m\u001b[38;5;241m.\u001b[39mcoroutine\n\u001b[1;32m    582\u001b[0m \u001b[38;5;28;01mdef\u001b[39;00m \u001b[38;5;21m__sleep0\u001b[39m():\n\u001b[1;32m    583\u001b[0m \u001b[38;5;250m    \u001b[39m\u001b[38;5;124;03m\"\"\"Skip one event loop run cycle.\u001b[39;00m\n\u001b[1;32m    584\u001b[0m \n\u001b[1;32m    585\u001b[0m \u001b[38;5;124;03m    This is a private helper for 'asyncio.sleep()', used\u001b[39;00m\n\u001b[0;32m   (...)\u001b[0m\n\u001b[1;32m    588\u001b[0m \u001b[38;5;124;03m    instead of creating a Future object.\u001b[39;00m\n\u001b[1;32m    589\u001b[0m \u001b[38;5;124;03m    \"\"\"\u001b[39;00m\n\u001b[0;32m--> 590\u001b[0m     \u001b[38;5;28;01myield\u001b[39;00m\n",
                        "\u001b[0;31mCancelledError\u001b[0m: "
                    ]
                }
            ],
            "source": [
                "print(\"Populating memory...\")\n",
                "await populate_memory(memory)\n",
                "\n",
                "print(\"Asking questions... (manually)\")\n",
                "await search_memory_examples(memory)\n",
                "\n",
                "print(\"Setting up a chat (with memory!)\")\n",
                "chat_func = await setup_chat_with_memory(kernel, chat_service_id)\n",
                "\n",
                "print(\"Begin chatting (type 'exit' to exit):\\n\")\n",
                "print(\n",
                "    \"Welcome to the chat bot!\\\n",
                "    \\n  Type 'exit' to exit.\\\n",
                "    \\n  Try asking a question about your finances (i.e. \\\"talk to me about my finances\\\").\"\n",
                ")\n",
                "chatting = True\n",
                "while chatting:\n",
                "    chatting = await chat(kernel, chat_func)"
            ]
        },
        {
            "attachments": {},
            "cell_type": "markdown",
            "id": "0a51542b",
            "metadata": {},
            "source": [
                "### Adding documents to your memory\n",
                "\n",
                "Many times in your applications you'll want to bring in external documents into your memory. Let's see how we can do this using our VolatileMemoryStore.\n",
                "\n",
                "Let's first get some data using some of the links in the Semantic Kernel repo.\n"
            ]
        },
        {
            "cell_type": "code",
            "execution_count": null,
            "id": "c3d5a1b9",
            "metadata": {},
            "outputs": [],
            "source": [
                "github_files = {}\n",
                "github_files[\"https://github.com/microsoft/semantic-kernel/blob/main/README.md\"] = (\n",
                "    \"README: Installation, getting started, and how to contribute\"\n",
                ")\n",
                "github_files[\n",
                "    \"https://github.com/microsoft/semantic-kernel/blob/main/dotnet/notebooks/02-running-prompts-from-file.ipynb\"\n",
                "] = \"Jupyter notebook describing how to pass prompts from a file to a semantic plugin or function\"\n",
                "github_files[\"https://github.com/microsoft/semantic-kernel/blob/main/dotnet/notebooks/00-getting-started.ipynb\"] = (\n",
                "    \"Jupyter notebook describing how to get started with the Semantic Kernel\"\n",
                ")\n",
                "github_files[\"https://github.com/microsoft/semantic-kernel/tree/main/samples/plugins/ChatPlugin/ChatGPT\"] = (\n",
                "    \"Sample demonstrating how to create a chat plugin interfacing with ChatGPT\"\n",
                ")\n",
                "github_files[\n",
                "    \"https://github.com/microsoft/semantic-kernel/blob/main/dotnet/src/SemanticKernel/Memory/Volatile/VolatileMemoryStore.cs\"\n",
                "] = \"C# class that defines a volatile embedding store\""
            ]
        },
        {
            "attachments": {},
            "cell_type": "markdown",
            "id": "75f3ea5e",
            "metadata": {},
            "source": [
                "Now let's add these files to our VolatileMemoryStore using `SaveReferenceAsync`. We'll separate these memories from the chat memories by putting them in a different collection.\n"
            ]
        },
        {
            "cell_type": "code",
            "execution_count": null,
            "id": "170e7142",
            "metadata": {},
            "outputs": [],
            "source": [
                "memory_collection_name = \"SKGitHub\"\n",
                "print(\"Adding some GitHub file URLs and their descriptions to a volatile Semantic Memory.\")\n",
                "i = 0\n",
                "for entry, value in github_files.items():\n",
                "    await memory.save_reference(\n",
                "        collection=memory_collection_name,\n",
                "        description=value,\n",
                "        text=value,\n",
                "        external_id=entry,\n",
                "        external_source_name=\"GitHub\",\n",
                "    )\n",
                "    i += 1\n",
                "    print(\"  URL {} saved\".format(i))"
            ]
        },
        {
            "cell_type": "code",
            "execution_count": null,
            "id": "143911c3",
            "metadata": {},
            "outputs": [],
            "source": [
                "ask = \"I love Jupyter notebooks, how should I get started?\"\n",
                "print(\"===========================\\n\" + \"Query: \" + ask + \"\\n\")\n",
                "\n",
                "memories = await memory.search(memory_collection_name, ask, limit=5, min_relevance_score=0.77)\n",
                "\n",
                "i = 0\n",
                "for memory in memories:\n",
                "    i += 1\n",
                "    print(f\"Result {i}:\")\n",
                "    print(\"  URL:     : \" + memory.id)\n",
                "    print(\"  Title    : \" + memory.description)\n",
                "    print(\"  Relevance: \" + str(memory.relevance))\n",
                "    print()"
            ]
        },
        {
            "attachments": {},
            "cell_type": "markdown",
            "id": "59294dac",
            "metadata": {},
            "source": [
                "Now you might be wondering what happens if you have so much data that it doesn't fit into your RAM? That's where you want to make use of an external Vector Database made specifically for storing and retrieving embeddings. Fortunately, semantic kernel makes this easy thanks to an extensive list of available connectors. In the following section, we will connect to an existing Azure AI Search service that we will use as an external Vector Database to store and retrieve embeddings.\n"
            ]
        },
        {
            "cell_type": "code",
            "execution_count": null,
            "id": "77fdfa86",
            "metadata": {},
            "outputs": [],
            "source": [
                "from semantic_kernel.connectors.memory.azure_cognitive_search import AzureCognitiveSearchMemoryStore\n",
                "\n",
                "azure_ai_search_api_key, azure_ai_search_url = sk.azure_aisearch_settings_from_dot_env()\n",
                "\n",
                "acs_memory_store = AzureCognitiveSearchMemoryStore(\n",
                "    vector_size=1536,\n",
                "    search_endpoint=azure_ai_search_url,\n",
                "    admin_key=azure_ai_search_api_key,\n",
                ")\n",
                "\n",
                "memory = SemanticTextMemory(storage=acs_memory_store, embeddings_generator=embedding_gen)\n",
                "kernel.add_plugin(TextMemoryPlugin(memory), \"TextMemoryPluginACS\")"
            ]
        },
        {
            "cell_type": "markdown",
            "id": "94f9e83b",
            "metadata": {},
            "source": [
                "The implementation of Semantic Kernel allows to easily swap memory store for another. Here, we will re-use the functions we initially created for `VolatileMemoryStore` with our new external Vector Store leveraging Azure AI Search\n"
            ]
        },
        {
            "cell_type": "code",
            "execution_count": null,
            "id": "fc3da7e1",
            "metadata": {},
            "outputs": [],
            "source": [
                "await populate_memory(memory)"
            ]
        },
        {
            "cell_type": "markdown",
            "id": "b0bbe830",
            "metadata": {},
            "source": [
                "Let's now try to query from Azure AI Search!\n"
            ]
        },
        {
            "cell_type": "code",
            "execution_count": null,
            "id": "1a09d0ca",
            "metadata": {},
            "outputs": [],
            "source": [
                "await search_memory_examples(memory)"
            ]
        },
        {
            "cell_type": "markdown",
            "metadata": {},
            "source": [
                "We have laid the foundation which will allow us to store an arbitrary amount of data in an external Vector Store above and beyond what could fit in memory at the expense of a little more latency.\n"
            ]
        }
    ],
    "metadata": {
        "kernelspec": {
            "display_name": "Python 3 (ipykernel)",
            "language": "python",
            "name": "python3"
        },
        "language_info": {
            "codemirror_mode": {
                "name": "ipython",
                "version": 3
            },
            "file_extension": ".py",
            "mimetype": "text/x-python",
            "name": "python",
            "nbconvert_exporter": "python",
            "pygments_lexer": "ipython3",
            "version": "3.10.14"
        }
    },
    "nbformat": 4,
    "nbformat_minor": 5
}
